{
  "cells": [
    {
      "cell_type": "markdown",
      "id": "96a587b8",
      "metadata": {
        "id": "96a587b8"
      },
      "source": [
        "<a href=\"https://colab.research.google.com/github/aderdouri/PINNs/blob/master/Training/Navier_Stokes_deepxde.ipynb\" target=\"_parent\"><img src=\"https://colab.research.google.com/assets/colab-badge.svg\" alt=\"Open In Colab\"/></a>"
      ]
    },
    {
      "cell_type": "code",
      "source": [
        "!pip install deepxde"
      ],
      "metadata": {
        "id": "uT_Dsx9RySCX"
      },
      "id": "uT_Dsx9RySCX",
      "execution_count": null,
      "outputs": []
    },
    {
      "cell_type": "code",
      "execution_count": null,
      "id": "90142464",
      "metadata": {
        "id": "90142464"
      },
      "outputs": [],
      "source": [
        "import tensorflow as tf\n",
        "import deepxde as dde\n",
        "import numpy as np\n",
        "import matplotlib.pyplot as plt"
      ]
    },
    {
      "cell_type": "code",
      "execution_count": 3,
      "id": "2a0d93ee",
      "metadata": {
        "id": "2a0d93ee"
      },
      "outputs": [],
      "source": [
        "rho = 1\n",
        "mu = 1\n",
        "u_in = 1\n",
        "D = 1\n",
        "L = 2"
      ]
    },
    {
      "cell_type": "code",
      "execution_count": 4,
      "id": "260f0675",
      "metadata": {
        "id": "260f0675"
      },
      "outputs": [],
      "source": [
        "geom = dde.geometry.Rectangle(xmin=[-L/2, -D/2], xmax=[L/2, D/2])"
      ]
    },
    {
      "cell_type": "code",
      "execution_count": 5,
      "id": "9b291fe2",
      "metadata": {
        "id": "9b291fe2"
      },
      "outputs": [],
      "source": [
        "def boundary_wall(X, on_boundary):\n",
        "    print(\"X\",X)\n",
        "    print(\"on_boundary\",on_boundary)\n",
        "    on_wall = np.logical_and(np.logical_or(np.isclose(X[1],-D/2,rtol=1e-05,atol=1e-08),np.isclose(X[1],D/2,rtol=1e-05,atol=1e-08)),on_boundary)\n",
        "    return on_wall\n",
        "\n",
        "def boundary_inlet(X,on_boundary):\n",
        "    on_inlet = np.logical_and(np.isclose(X[0],-L/2,rtol=1e-05,atol=1e-08),on_boundary)\n",
        "    return on_inlet\n",
        "\n",
        "def boundary_outlet(X,on_boundary):\n",
        "    on_outlet = np.logical_and(np.isclose(X[0],L/2,rtol=1e-05,atol=1e-08),on_boundary)\n",
        "    return on_outlet"
      ]
    },
    {
      "cell_type": "code",
      "execution_count": 6,
      "id": "9bee3881",
      "metadata": {
        "id": "9bee3881"
      },
      "outputs": [],
      "source": [
        "bc_wall_u = dde.DirichletBC(geom, lambda X:0., boundary_wall, component= 0)\n",
        "bc_wall_v = dde.DirichletBC(geom, lambda X:0., boundary_wall, component= 1)\n",
        "\n",
        "bc_inlet_u = dde.DirichletBC(geom, lambda X:u_in, boundary_inlet, component= 0)\n",
        "bc_inlet_v = dde.DirichletBC(geom, lambda X:0.   , boundary_inlet, component= 1)\n",
        "\n",
        "bc_outlet_p = dde.DirichletBC(geom, lambda X:0.  , boundary_outlet, component= 2)\n",
        "bc_outlet_v = dde.DirichletBC(geom, lambda X:0.  , boundary_outlet, component= 1)"
      ]
    },
    {
      "cell_type": "code",
      "execution_count": 7,
      "id": "b0eca8ed",
      "metadata": {
        "id": "b0eca8ed"
      },
      "outputs": [],
      "source": [
        "def pde(X,Y):\n",
        "    du_x =dde.grad.jacobian(Y, X, i=0, j=0)\n",
        "    du_y =dde.grad.jacobian(Y, X, i=0, j=1)\n",
        "    dv_x =dde.grad.jacobian(Y, X, i=1, j=0)\n",
        "    dv_y =dde.grad.jacobian(Y, X, i=1, j=1)\n",
        "    dp_x =dde.grad.jacobian(Y, X, i=2, j=0)\n",
        "    dp_y =dde.grad.jacobian(Y, X, i=2, j=1)\n",
        "\n",
        "    du_xx = dde.grad.hessian(Y, X, component=0, i=0, j=0)\n",
        "    du_yy = dde.grad.hessian(Y, X, component=0, i=1, j=1)\n",
        "    dv_xx = dde.grad.hessian(Y, X, component=1, i=0, j=0)\n",
        "    dv_yy = dde.grad.hessian(Y, X, component=1, i=1, j=1)\n",
        "\n",
        "    pde_u    = Y[:,0:1]*du_x +  Y[:,1:2]*du_y + 1/rho * dp_x - (mu/rho) * (du_xx+ du_yy)\n",
        "    pde_v    = Y[:,0:1]*dv_x +  Y[:,1:2]*dv_y + 1/rho * dp_y - (mu/rho) * (dv_xx+ dv_yy)\n",
        "    pde_cont = du_x + dv_y\n",
        "\n",
        "    return [pde_u,pde_v,pde_cont]"
      ]
    },
    {
      "cell_type": "code",
      "execution_count": null,
      "id": "13127bbf",
      "metadata": {
        "id": "13127bbf"
      },
      "outputs": [],
      "source": [
        "data = dde.data.PDE(geom,\n",
        "                   pde,\n",
        "                   [bc_wall_u,bc_wall_v,bc_inlet_u,bc_inlet_v,bc_outlet_p,bc_outlet_v],\n",
        "                   num_domain  = 2000,\n",
        "                   num_boundary= 200,\n",
        "                   num_test = 200)"
      ]
    },
    {
      "cell_type": "code",
      "execution_count": 9,
      "id": "3e6f10c6",
      "metadata": {
        "id": "3e6f10c6",
        "outputId": "9360e8ad-c387-403a-c34c-0048860ecbf1",
        "colab": {
          "base_uri": "https://localhost:8080/",
          "height": 696
        }
      },
      "outputs": [
        {
          "output_type": "display_data",
          "data": {
            "text/plain": [
              "<Figure size 1000x800 with 1 Axes>"
            ],
            "image/png": "[encoded data removed]"
          },
          "metadata": {}
        }
      ],
      "source": [
        "plt.figure(figsize=(10,8))\n",
        "plt.scatter(data.train_x_all[:,0], data.train_x_all[:,1], s= 0.5)\n",
        "plt.xlabel(\"x\")\n",
        "plt.ylabel(\"y\")\n",
        "plt.show()"
      ]
    },
    {
      "cell_type": "code",
      "execution_count": 10,
      "id": "8e36b718",
      "metadata": {
        "id": "8e36b718"
      },
      "outputs": [],
      "source": [
        "net = dde.maps.FNN([2] + [64]*5 + [3] , \"tanh\", \"Glorot uniform\")"
      ]
    },
    {
      "cell_type": "code",
      "execution_count": 11,
      "id": "30375579",
      "metadata": {
        "id": "30375579",
        "outputId": "e29ae690-01d4-4166-d3ce-0a58621051a4",
        "colab": {
          "base_uri": "https://localhost:8080/"
        }
      },
      "outputs": [
        {
          "output_type": "stream",
          "name": "stdout",
          "text": [
            "Compiling model...\n",
            "Building feed-forward neural network...\n",
            "'build' took 0.132344 s\n",
            "\n",
            "'compile' took 2.102980 s\n",
            "\n"
          ]
        }
      ],
      "source": [
        "model = dde.Model(data, net)\n",
        "model.compile(\"adam\",lr=1e-3)"
      ]
    },
    {
      "cell_type": "code",
      "execution_count": 12,
      "id": "f0068ae7",
      "metadata": {
        "id": "f0068ae7",
        "outputId": "b70d3aa2-9fe3-44cc-afa9-7042d0c3db18",
        "colab": {
          "base_uri": "https://localhost:8080/"
        }
      },
      "outputs": [
        {
          "metadata": {
            "tags": null
          },
          "name": "stdout",
          "output_type": "stream",
          "text": [
            "Warning: epochs is deprecated and will be removed in a future version. Use iterations instead.\n",
            "Training model...\n",
            "\n",
            "Step      Train loss                                                                                    Test loss                                                                                     Test metric\n",
            "0         [1.95e-02, 1.87e-01, 2.20e-02, 2.17e-02, 1.59e-02, 1.21e+00, 4.01e-02, 2.51e-02, 4.04e-02]    [1.84e-02, 1.92e-01, 2.20e-02, 2.17e-02, 1.59e-02, 1.21e+00, 4.01e-02, 2.51e-02, 4.04e-02]    []  \n",
            "1000      [1.03e-03, 6.28e-04, 9.55e-03, 2.94e-02, 1.55e-02, 3.86e-02, 2.82e-03, 4.76e-04, 2.09e-05]    [5.99e-04, 2.83e-04, 5.47e-03, 2.94e-02, 1.55e-02, 3.86e-02, 2.82e-03, 4.76e-04, 2.09e-05]    []  \n",
            "2000      [9.62e-04, 5.45e-04, 4.24e-03, 2.19e-02, 1.18e-02, 3.30e-02, 5.23e-04, 1.58e-04, 3.31e-05]    [4.37e-04, 3.19e-04, 2.49e-03, 2.19e-02, 1.18e-02, 3.30e-02, 5.23e-04, 1.58e-04, 3.31e-05]    []  \n",
            "3000      [8.44e-04, 5.02e-04, 3.18e-03, 1.91e-02, 9.97e-03, 2.64e-02, 1.34e-03, 4.41e-05, 7.44e-06]    [4.24e-04, 2.84e-04, 1.63e-03, 1.91e-02, 9.97e-03, 2.64e-02, 1.34e-03, 4.41e-05, 7.44e-06]    []  \n",
            "4000      [4.89e-03, 8.79e-04, 2.52e-03, 1.72e-02, 9.15e-03, 2.18e-02, 2.65e-03, 2.90e-03, 1.35e-05]    [4.73e-03, 5.46e-04, 9.90e-04, 1.72e-02, 9.15e-03, 2.18e-02, 2.65e-03, 2.90e-03, 1.35e-05]    []  \n",
            "5000      [6.46e-03, 9.30e-04, 2.55e-03, 1.60e-02, 8.38e-03, 1.90e-02, 3.79e-03, 2.14e-03, 2.42e-05]    [6.54e-03, 5.49e-04, 9.94e-04, 1.60e-02, 8.38e-03, 1.90e-02, 3.79e-03, 2.14e-03, 2.42e-05]    []  \n",
            "6000      [6.74e-03, 1.02e-03, 2.53e-03, 1.51e-02, 6.98e-03, 1.99e-02, 3.89e-03, 9.66e-05, 2.99e-05]    [5.74e-03, 9.69e-04, 1.24e-03, 1.51e-02, 6.98e-03, 1.99e-02, 3.89e-03, 9.66e-05, 2.99e-05]    []  \n",
            "7000      [8.76e-03, 1.03e-03, 2.98e-03, 1.53e-02, 7.03e-03, 1.66e-02, 4.67e-03, 2.79e-03, 1.70e-05]    [8.29e-03, 6.05e-04, 1.21e-03, 1.53e-02, 7.03e-03, 1.66e-02, 4.67e-03, 2.79e-03, 1.70e-05]    []  \n",
            "8000      [2.76e-04, 2.72e-04, 2.48e-03, 1.49e-02, 6.85e-03, 1.57e-02, 5.13e-03, 5.69e-05, 9.81e-06]    [2.08e-04, 1.50e-04, 8.78e-04, 1.49e-02, 6.85e-03, 1.57e-02, 5.13e-03, 5.69e-05, 9.81e-06]    []  \n",
            "9000      [5.97e-03, 1.02e-03, 2.07e-03, 1.46e-02, 6.32e-03, 1.61e-02, 5.13e-03, 2.42e-03, 1.93e-05]    [5.82e-03, 7.65e-04, 6.63e-04, 1.46e-02, 6.32e-03, 1.61e-02, 5.13e-03, 2.42e-03, 1.93e-05]    []  \n",
            "10000     [9.51e-04, 6.46e-04, 2.36e-03, 1.49e-02, 5.94e-03, 1.53e-02, 5.11e-03, 2.31e-03, 9.61e-06]    [8.31e-04, 4.63e-04, 8.75e-04, 1.49e-02, 5.94e-03, 1.53e-02, 5.11e-03, 2.31e-03, 9.61e-06]    []  \n",
            "\n",
            "Best model at step 8000:\n",
            "  train loss: 4.57e-02\n",
            "  test loss: 4.39e-02\n",
            "  test metric: []\n",
            "\n",
            "'train' took 1467.188000 s\n",
            "\n"
          ]
        }
      ],
      "source": [
        "losshistory, train_state = model.train(epochs = 10000)"
      ]
    },
    {
      "cell_type": "code",
      "execution_count": 13,
      "id": "ef05f688",
      "metadata": {
        "id": "ef05f688",
        "outputId": "4e8f3063-d43a-4d2c-f0a8-bd0e70db6d5c",
        "colab": {
          "base_uri": "https://localhost:8080/"
        }
      },
      "outputs": [
        {
          "metadata": {
            "tags": null
          },
          "name": "stdout",
          "output_type": "stream",
          "text": [
            "Compiling model...\n",
            "'compile' took 1.833756 s\n",
            "\n",
            "Training model...\n",
            "\n",
            "Step      Train loss                                                                                    Test loss                                                                                     Test metric\n",
            "10000     [9.51e-04, 6.46e-04, 2.36e-03, 1.49e-02, 5.94e-03, 1.53e-02, 5.11e-03, 2.31e-03, 9.61e-06]    [8.31e-04, 4.63e-04, 8.75e-04, 1.49e-02, 5.94e-03, 1.53e-02, 5.11e-03, 2.31e-03, 9.61e-06]    []  \n",
            "10019     [9.51e-04, 6.46e-04, 2.36e-03, 1.49e-02, 5.94e-03, 1.53e-02, 5.11e-03, 2.31e-03, 9.61e-06]    [8.31e-04, 4.63e-04, 8.75e-04, 1.49e-02, 5.94e-03, 1.53e-02, 5.11e-03, 2.31e-03, 9.61e-06]    []  \n",
            "\n",
            "Best model at step 8000:\n",
            "  train loss: 4.57e-02\n",
            "  test loss: 4.39e-02\n",
            "  test metric: []\n",
            "\n",
            "'train' took 4.971939 s\n",
            "\n"
          ]
        }
      ],
      "source": [
        "dde.optimizers.config.set_LBFGS_options(maxiter= 3000)\n",
        "model.compile(\"L-BFGS\")\n",
        "losshistory, train_state = model.train()\n",
        "dde.saveplot(losshistory, train_state, issave=False, isplot=False)"
      ]
    },
    {
      "cell_type": "code",
      "execution_count": 14,
      "id": "beedc68a",
      "metadata": {
        "id": "beedc68a"
      },
      "outputs": [],
      "source": [
        "samples = geom.random_points(500000)\n",
        "result = model.predict(samples)"
      ]
    },
    {
      "cell_type": "code",
      "execution_count": null,
      "id": "c74e1c35",
      "metadata": {
        "id": "c74e1c35"
      },
      "outputs": [],
      "source": [
        "color_legend = [[0,1.5],[-0.3,0.3],[0,35]]\n",
        "\n",
        "for idx in range(3):\n",
        "    plt.figure(figsize=(20,4))\n",
        "    plt.scatter(samples[:,0],\n",
        "               samples[:,1],\n",
        "               c = result[:,idx],\n",
        "               cmap= 'jet',\n",
        "               s=2)\n",
        "    plt.colorbar()\n",
        "    plt.clim(color_legend[idx])\n",
        "    plt.xlim((0-L/2, L-L/2))\n",
        "    plt.ylim((0-D/2, D-D/2))\n",
        "    plt.tight_layout()\n",
        "    plt.show()"
      ]
    }
  ],
  "metadata": {
    "kernelspec": {
      "display_name": "Python 3 (ipykernel)",
      "language": "python",
      "name": "python3"
    },
    "language_info": {
      "codemirror_mode": {
        "name": "ipython",
        "version": 3
      },
      "file_extension": ".py",
      "mimetype": "text/x-python",
      "name": "python",
      "nbconvert_exporter": "python",
      "pygments_lexer": "ipython3",
      "version": "3.11.3"
    },
    "colab": {
      "provenance": []
    }
  },
  "nbformat": 4,
  "nbformat_minor": 5
}