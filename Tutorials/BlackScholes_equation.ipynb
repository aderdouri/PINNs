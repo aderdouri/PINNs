{
  "cells": [
    {
      "cell_type": "markdown",
      "metadata": {
        "id": "view-in-github",
        "colab_type": "text"
      },
      "source": [
        "<a href=\"https://colab.research.google.com/github/aderdouri/PINNs/blob/master/Tutorials/BlackScholes_equation.ipynb\" target=\"_parent\"><img src=\"https://colab.research.google.com/assets/colab-badge.svg\" alt=\"Open In Colab\"/></a>"
      ]
    },
    {
      "cell_type": "markdown",
      "source": [
        "## Black-Scholes Partial Differential Equation (PDE)\n",
        "The value of an option $V(S, t)$ satisfies the Black-Scholes PDE:\n",
        "$$\n",
        "\\frac{\\partial V}{\\partial t} + \\frac{1}{2} \\sigma^2 S^2 \\frac{\\partial^2 V}{\\partial S^2} + r S \\frac{\\partial V}{\\partial S} - r V = 0\n",
        "$$\n",
        "\n",
        "### Initial and Boundary Conditions of the Black-Scholes PDE\n",
        "\n",
        "The initial and boundary conditions for the Black-Scholes PDE depend on the type of derivative being priced, such as European call or put options. These conditions are necessary for solving the PDE and obtaining specific option prices. We will consider a Call option.\n",
        "\n",
        "- $\\textbf{Initial Condition}$ (at $t = T$):\n",
        "    - $\\text{Call: } V(S, T) = \\max(S - K, 0)$ \\\\\n",
        "- $\\textbf{Boundary Conditions:}$\n",
        "  - $V(0, t) = 0$ \\\\\n",
        "  - $V(S, t) \\to S - K e^{-r(T-t)} \\quad \\text{as } S \\to \\infty$\n",
        "\n",
        "These conditions, combined with the Black-Scholes PDE, provide a complete specification for determining the price of the option.\n"
      ],
      "metadata": {
        "id": "zQ4HCtUSmuCQ"
      }
    },
    {
      "cell_type": "markdown",
      "metadata": {
        "id": "A_9U59_Yer5p"
      },
      "source": [
        "## Implementation"
      ]
    },
    {
      "cell_type": "code",
      "source": [
        "import torch\n",
        "import torch.nn.functional as F"
      ],
      "metadata": {
        "id": "IAzwVqmj9cKx"
      },
      "execution_count": 155,
      "outputs": []
    },
    {
      "cell_type": "markdown",
      "source": [
        "## Analytic formula"
      ],
      "metadata": {
        "id": "3FsXuSNm9dWj"
      }
    },
    {
      "cell_type": "code",
      "source": [
        "import torch\n",
        "\n",
        "def black_scholes(S, t, T=1.0, K=120, r=0.05, sigma=0.20, option_type=\"call\"):\n",
        "    \"\"\"\n",
        "    Compute the Black-Scholes option price.\n",
        "\n",
        "    Args:\n",
        "        S (torch.Tensor): Current stock price.\n",
        "        T (float): Time to maturity.\n",
        "        t (float): Current time (typically 0).\n",
        "        K (float): Strike price.\n",
        "        r (float): Risk-free interest rate.\n",
        "        sigma (float): Volatility of the stock price.\n",
        "        option_type (str): \"call\" or \"put\".\n",
        "\n",
        "    Returns:\n",
        "        torch.Tensor: Option price.\n",
        "    \"\"\"\n",
        "    # Ensure inputs are PyTorch tensors and have the correct dtype\n",
        "    S = S.type(torch.float32) # Changed to type casting\n",
        "\n",
        "    # Time to maturity\n",
        "    tau = T - t\n",
        "\n",
        "    # Avoid division by zero for tau = 0\n",
        "    epsilon = 1e-8\n",
        "\n",
        "    # Convert r and tau to tensors\n",
        "    r = torch.tensor(r, dtype=torch.float32)\n",
        "    tau = torch.tensor(tau, dtype=torch.float32)\n",
        "\n",
        "    # Compute d1 and d2\n",
        "    # Use tau and epsilon directly for torch.sqrt, no need to create new tensors\n",
        "    d1 = (torch.log(S / K) + (r + 0.5 * sigma**2) * tau) / (sigma * torch.sqrt(tau + epsilon))\n",
        "    d2 = d1 - sigma * torch.sqrt(tau + epsilon)\n",
        "\n",
        "    # Compute N(d1) and N(d2) using the cumulative distribution function\n",
        "    N_d1 = 0.5 * (1.0 + torch.erf(d1 / torch.sqrt(torch.tensor(2.0))))\n",
        "    N_d2 = 0.5 * (1.0 + torch.erf(d2 / torch.sqrt(torch.tensor(2.0))))\n",
        "\n",
        "    # Compute the call or put price\n",
        "    if option_type == \"call\":\n",
        "        option_price = S * N_d1 - K * torch.exp(-r * tau) * N_d2\n",
        "    elif option_type == \"put\":\n",
        "        option_price = K * torch.exp(-r * tau) * (1.0 - N_d2) - S * (1.0 - N_d1)\n",
        "    else:\n",
        "        raise ValueError(\"Invalid option_type. Must be 'call' or 'put'.\")\n",
        "\n",
        "    return option_price"
      ],
      "metadata": {
        "id": "YCgXDrWjNGEU"
      },
      "execution_count": 156,
      "outputs": []
    },
    {
      "cell_type": "code",
      "source": [
        "# black_scholes(S, t, T=1.0, K=120, r=0.05, sigma=0.20, option_type=\"call\"):\n",
        "S = torch.tensor([100.0], dtype=torch.float32)  # Stock price\n",
        "t = 0.0    # Current time\n",
        "T = 1.0    # Time to maturity\n",
        "K = 100.0  # Strike price\n",
        "r = 0.05   # Risk-free rate\n",
        "sigma = 0.2  # Volatility\n",
        "\n",
        "# Compute call and put prices\n",
        "call_price = black_scholes(S, t, T, K, r, sigma, option_type=\"call\")\n",
        "print(f\"Call Price: {call_price.item():.4f}\")"
      ],
      "metadata": {
        "colab": {
          "base_uri": "https://localhost:8080/"
        },
        "id": "3GbvuFyG9yXf",
        "outputId": "795ae32d-5077-48ea-8448-23bbd6d32edb"
      },
      "execution_count": 157,
      "outputs": [
        {
          "output_type": "stream",
          "name": "stdout",
          "text": [
            "Call Price: 10.4506\n"
          ]
        }
      ]
    },
    {
      "cell_type": "code",
      "execution_count": 158,
      "metadata": {
        "id": "BLAP2KL9b3y8"
      },
      "outputs": [],
      "source": [
        "import numpy as np\n",
        "import torch.nn as nn\n",
        "import matplotlib.pyplot as plt"
      ]
    },
    {
      "cell_type": "code",
      "execution_count": 159,
      "metadata": {
        "id": "9mH21Ymv542P"
      },
      "outputs": [],
      "source": [
        "def bs_pde_residual(model, s, t, r=0.05, sigma=0.20):\n",
        "    \"\"\"\n",
        "    Compute the PDE residual for Black-Scholes equation:\n",
        "    \"\"\"\n",
        "    s.requires_grad = True\n",
        "    t.requires_grad = True\n",
        "    V = model(torch.cat((s, t), dim=1))\n",
        "\n",
        "    # Gradients w.r.t. x and t\n",
        "    V_s = torch.autograd.grad(V, s, grad_outputs=torch.ones_like(V), create_graph=True)[0]\n",
        "    V_t = torch.autograd.grad(V, t, grad_outputs=torch.ones_like(V), create_graph=True)[0]\n",
        "\n",
        "    # Second-order derivative w.r.t. s\n",
        "    V_ss = torch.autograd.grad(V_s, s, grad_outputs=torch.ones_like(V_s), create_graph=True)[0]\n",
        "\n",
        "    # PDE residual\n",
        "    residual = V_t + 0.5*sigma**2*s**2*V_ss + r*s*V_s -r*V\n",
        "    return residual\n",
        "\n",
        "# Step 2: Define the PINN model\n",
        "class PINN(nn.Module):\n",
        "    \"\"\"Physics-Informed Neural Network for heat equation.\"\"\"\n",
        "    def __init__(self):\n",
        "        super(PINN, self).__init__()\n",
        "        self.hidden_layers = nn.Sequential(\n",
        "            nn.Linear(2, 50),  # Inputs: (s, t)\n",
        "            nn.Tanh(),\n",
        "            nn.Linear(50, 50),\n",
        "            nn.Tanh(),\n",
        "            nn.Linear(50, 50),\n",
        "            nn.Tanh(),\n",
        "            nn.Linear(50, 1)  # Output: V(s, t)\n",
        "        )\n",
        "\n",
        "    def forward(self, s):\n",
        "        return self.hidden_layers(s)\n",
        "\n",
        "# Step 3: Define the loss function\n",
        "def compute_loss(model, s_interior, t_interior, s_boundary, t_boundary, s_initial, t_initial, V_initial,\n",
        "                 r, sigma):\n",
        "    \"\"\"Compute the combined loss for the PDE residual, boundary, and initial conditions.\"\"\"\n",
        "    # PDE residual loss\n",
        "    residual = bs_pde_residual(model, s_interior, t_interior, r, sigma)\n",
        "    pde_loss = torch.mean(residual**2)\n",
        "\n",
        "    # Boundary condition loss:\n",
        "    # V(0, t)=0\n",
        "    # V(S, t)→S-K*exp(−r(T−t))as 𝑆→∞\n",
        "    V_boundary_left = model(torch.cat((s_boundary[0], t_boundary), dim=1))\n",
        "    V_boundary_right = model(torch.cat((s_boundary[1], t_boundary), dim=1))\n",
        "    bc_loss = torch.mean(V_boundary_left**2) + torch.mean(V_boundary_right**2)\n",
        "\n",
        "    # Initial condition loss:\n",
        "    # (at 𝑡=𝑇): 𝑉(𝑆,𝑇)=max(𝑆−𝐾,0)\n",
        "    V_initial_pred = model(torch.cat((s_initial, t_initial), dim=1))\n",
        "    ic_loss = torch.mean((V_initial_pred - V_initial)**2)\n",
        "\n",
        "    return pde_loss + bc_loss + ic_loss\n",
        "\n",
        "# Step 4: Training the model\n",
        "def train_pinn(model, s_interior, t_interior, s_boundary, t_boundary, s_initial, t_initial, V_initial,\n",
        "               r, sigma, adam_epochs=1000, lbfgs_epochs=500):\n",
        "    \"\"\"Train the PINN model using Adam and LBFGS optimizers.\"\"\"\n",
        "    # Adam optimizer for initial training\n",
        "    optimizer_adam = torch.optim.Adam(model.parameters(), lr=0.001)\n",
        "    for epoch in range(adam_epochs):\n",
        "        optimizer_adam.zero_grad()\n",
        "        loss = compute_loss(model, s_interior, t_interior, s_boundary, t_boundary, s_initial, t_initial, V_initial, r, sigma)\n",
        "        loss.backward()\n",
        "        optimizer_adam.step()\n",
        "        if epoch % 100 == 0:\n",
        "            print(f\"Adam Epoch {epoch}, Loss: {loss.item()}\")\n",
        "\n",
        "    # LBFGS optimizer for fine-tuning\n",
        "    optimizer_lbfgs = torch.optim.LBFGS(model.parameters(), max_iter=lbfgs_epochs, tolerance_grad=1e-7, tolerance_change=1e-9)\n",
        "\n",
        "    def closure():\n",
        "        optimizer_lbfgs.zero_grad()\n",
        "        loss = compute_loss(model, s_interior, t_interior, s_boundary, t_boundary, s_initial, t_initial, V_initial, r, sigma)\n",
        "        loss.backward()\n",
        "        return loss\n",
        "\n",
        "    print(\"Starting LBFGS optimization...\")\n",
        "    optimizer_lbfgs.step(closure)"
      ]
    },
    {
      "cell_type": "code",
      "execution_count": 259,
      "metadata": {
        "id": "LwX0xINUSFPP"
      },
      "outputs": [],
      "source": [
        "# Step 5: Generate training data\n",
        "# Domain: s ∈ [strike//2, 2*strike], t ∈ [0, 1] (1 year)\n",
        "S0 = 100.0 # initial stock price\n",
        "T = 1.0 # one year\n",
        "strike = 100.0\n",
        "r = 0.05\n",
        "sigma = 0.2\n",
        "s = torch.linspace(strike//2, 2*strike, 100).view(-1, 1)\n",
        "t = torch.linspace(0, T, 100).view(-1, 1)\n",
        "\n",
        "# Create mesh grid for interior points\n",
        "s_grid, t_grid = torch.meshgrid(s.squeeze(), t.squeeze(), indexing='ij')\n",
        "s_interior = s_grid.flatten().view(-1, 1)\n",
        "t_interior = t_grid.flatten().view(-1, 1)\n",
        "\n",
        "# Boundary points\n",
        "# V(0, t)=0\n",
        "# V(S, t)→S-K*exp(−r(T−t))as 𝑆→∞\n",
        "s_goes_infinity = 2*strike - strike*torch.exp(-r*(T-t))\n",
        "s_boundary = [torch.full_like(t, 0), s_goes_infinity]\n",
        "\n",
        "t_boundary = torch.full_like(t, T)\n",
        "\n",
        "# Initial points\n",
        "# (at 𝑡=𝑇): 𝑉(𝑆, 𝑇)=max(𝑆−𝐾, 0)\n",
        "s_initial = s\n",
        "t_initial = t# torch.full_like(t, 0.0)\n",
        "V_initial = torch.max(s - strike, torch.tensor(0.0))"
      ]
    },
    {
      "cell_type": "code",
      "execution_count": 260,
      "metadata": {
        "colab": {
          "base_uri": "https://localhost:8080/"
        },
        "id": "UZG088B9RtNz",
        "outputId": "d6c00210-7fd5-4a35-9ddf-c85ba29ac416"
      },
      "outputs": [
        {
          "output_type": "stream",
          "name": "stdout",
          "text": [
            "Adam Epoch 0, Loss: 2231.990966796875\n",
            "Adam Epoch 100, Loss: 1819.4739990234375\n",
            "Adam Epoch 200, Loss: 1725.9007568359375\n",
            "Adam Epoch 300, Loss: 1697.183349609375\n",
            "Adam Epoch 400, Loss: 1509.3045654296875\n",
            "Adam Epoch 500, Loss: 1027.779541015625\n",
            "Adam Epoch 600, Loss: 796.6928100585938\n",
            "Adam Epoch 700, Loss: 632.1575317382812\n",
            "Adam Epoch 800, Loss: 508.4632263183594\n",
            "Adam Epoch 900, Loss: 413.14703369140625\n",
            "Starting LBFGS optimization...\n"
          ]
        }
      ],
      "source": [
        "# Step 6: Initialize and train the PINN\n",
        "model = PINN()\n",
        "train_pinn(model, s_interior, t_interior, s_boundary, t_boundary, s_initial, t_initial, V_initial,\n",
        "           r, sigma,\n",
        "           adam_epochs=1000, lbfgs_epochs=50000)"
      ]
    },
    {
      "cell_type": "code",
      "execution_count": 261,
      "metadata": {
        "colab": {
          "base_uri": "https://localhost:8080/",
          "height": 564
        },
        "id": "1IZHsz5WRxLP",
        "outputId": "5362ef2d-b401-49a8-ff56-287774fa87d4"
      },
      "outputs": [
        {
          "output_type": "display_data",
          "data": {
            "text/plain": [
              "<Figure size 800x600 with 2 Axes>"
            ],
            "image/png": "[encoded data removed]"
          },
          "metadata": {}
        }
      ],
      "source": [
        "# Step 7: Visualize the results\n",
        "# Create a grid for prediction\n",
        "s_pred = torch.linspace(strike//2, 2*strike, 100).view(-1, 1)\n",
        "t_pred = torch.linspace(0, T, 100).view(-1, 1)\n",
        "\n",
        "s_grid_pred, t_grid_pred = torch.meshgrid(s_pred.squeeze(), t_pred.squeeze(), indexing='ij')\n",
        "s_flat = s_grid_pred.flatten().view(-1, 1)\n",
        "t_flat = t_grid_pred.flatten().view(-1, 1)\n",
        "\n",
        "# Predict using the trained model\n",
        "V_pred = model(torch.cat((s_flat, t_flat), dim=1)).detach().numpy()\n",
        "V_pred = V_pred.reshape(100, 100)\n",
        "\n",
        "# Plot the solution\n",
        "plt.figure(figsize=(8, 6))\n",
        "plt.contourf(s_grid_pred.numpy(), t_grid_pred.numpy(), V_pred, levels=100, cmap='viridis')\n",
        "plt.colorbar(label='V(s, t)')\n",
        "plt.xlabel('s')\n",
        "plt.ylabel('t')\n",
        "plt.title('Predicted Solution for Black-Scholes Equation')\n",
        "plt.show()\n"
      ]
    },
    {
      "cell_type": "code",
      "source": [
        "# Example Usage\n",
        "S = torch.tensor([100.0], dtype=torch.float32)  # Stock price\n",
        "T = 1.0    # Time to maturity\n",
        "t = 0.0    # Current time\n",
        "K = 100.0  # Strike price\n",
        "r = 0.05   # Risk-free rate\n",
        "sigma = 0.2  # Volatility\n",
        "\n",
        "# Compute call and put prices\n",
        "call_price = black_scholes(S, t, T, K, r, sigma, option_type=\"call\")\n",
        "print(f\"Call Price: {call_price.item():.4f}\")"
      ],
      "metadata": {
        "id": "l1iTlRSbQIhf",
        "colab": {
          "base_uri": "https://localhost:8080/"
        },
        "outputId": "14e2086e-bbed-4bab-892e-1bac97a5a879"
      },
      "execution_count": 262,
      "outputs": [
        {
          "output_type": "stream",
          "name": "stdout",
          "text": [
            "Call Price: 10.4506\n"
          ]
        }
      ]
    },
    {
      "cell_type": "code",
      "source": [
        "# black_scholes(S, t, T, K, r, sigma)\n",
        "V_exact = black_scholes(s_flat, t_flat, T, K, r, sigma)\n",
        "V_exact = V_exact.reshape(100, 100)"
      ],
      "metadata": {
        "id": "TjqR4bClYUtZ",
        "outputId": "4446274b-b9d1-40d7-cfd8-b08f39b4b3b8",
        "colab": {
          "base_uri": "https://localhost:8080/"
        }
      },
      "execution_count": 263,
      "outputs": [
        {
          "output_type": "stream",
          "name": "stderr",
          "text": [
            "<ipython-input-156-ca31b467f962>:30: UserWarning: To copy construct from a tensor, it is recommended to use sourceTensor.clone().detach() or sourceTensor.clone().detach().requires_grad_(True), rather than torch.tensor(sourceTensor).\n",
            "  tau = torch.tensor(tau, dtype=torch.float32)\n"
          ]
        }
      ]
    },
    {
      "cell_type": "code",
      "source": [
        "s_flat[3300], t_flat[10000-10]\n",
        "#model(torch.cat((s_flat[3300], t_flat[3300]), dim=1)).detach().numpy()"
      ],
      "metadata": {
        "id": "swnlfoG6ZhWv",
        "outputId": "56bd234d-af8a-4c41-c388-c89bba0332a5",
        "colab": {
          "base_uri": "https://localhost:8080/"
        }
      },
      "execution_count": 264,
      "outputs": [
        {
          "output_type": "execute_result",
          "data": {
            "text/plain": [
              "(tensor([100.]), tensor([0.9091]))"
            ]
          },
          "metadata": {},
          "execution_count": 264
        }
      ]
    },
    {
      "cell_type": "code",
      "source": [
        "V_pred"
      ],
      "metadata": {
        "id": "X4j6uCkTpzYV",
        "outputId": "f1b20584-d73a-44fc-802c-5adbdc3acf93",
        "colab": {
          "base_uri": "https://localhost:8080/"
        }
      },
      "execution_count": 265,
      "outputs": [
        {
          "output_type": "execute_result",
          "data": {
            "text/plain": [
              "array([[16.729208, 16.729208, 16.729208, ..., 16.72921 , 16.72921 ,\n",
              "        16.72921 ],\n",
              "       [16.729208, 16.729208, 16.729208, ..., 16.729208, 16.729208,\n",
              "        16.729208],\n",
              "       [16.729208, 16.729208, 16.729208, ..., 16.729208, 16.729208,\n",
              "        16.729208],\n",
              "       ...,\n",
              "       [16.729208, 16.729208, 16.729208, ..., 16.729208, 16.729208,\n",
              "        16.729208],\n",
              "       [16.729208, 16.729208, 16.729208, ..., 16.729208, 16.729208,\n",
              "        16.729208],\n",
              "       [16.729208, 16.729208, 16.729208, ..., 16.729208, 16.729208,\n",
              "        16.729208]], dtype=float32)"
            ]
          },
          "metadata": {},
          "execution_count": 265
        }
      ]
    },
    {
      "cell_type": "code",
      "execution_count": 266,
      "metadata": {
        "colab": {
          "base_uri": "https://localhost:8080/",
          "height": 507
        },
        "id": "KDpi-buwYePT",
        "outputId": "0a681946-64b8-4858-9bbb-b0c7857e56bc"
      },
      "outputs": [
        {
          "output_type": "display_data",
          "data": {
            "text/plain": [
              "<Figure size 1500x500 with 3 Axes>"
            ],
            "image/png": "[encoded data removed]"
          },
          "metadata": {}
        }
      ],
      "source": [
        "# Step 8: Compare predictions with exact solution at specific time slices\n",
        "time_slices = [25, 50, 75]  # Time slices to compare\n",
        "\n",
        "plt.figure(figsize=(15, 5))\n",
        "\n",
        "for i, t_slice in enumerate(time_slices):\n",
        "    # Extract points for the time slice\n",
        "    t_slice_tensor = torch.full_like(s_pred, t_slice)\n",
        "    V_pred_slice = V_pred[:, t_slice]\n",
        "\n",
        "    # Compute exact solution\n",
        "    V_exact_slice = V_exact[:,t_slice]\n",
        "\n",
        "    # Plot comparison\n",
        "    plt.subplot(1, 3, i + 1)\n",
        "    plt.plot(s.numpy(), V_exact_slice, 'b-', label='Exact', linewidth=2)\n",
        "    plt.plot(s.numpy(), V_pred_slice, 'r--', label='Prediction', linewidth=2)\n",
        "    plt.title(f\"$t = {t_slice}$\")\n",
        "    plt.xlabel(\"$x$\")\n",
        "    plt.ylabel(\"$V(t, x)$\")\n",
        "    plt.legend()\n",
        "    plt.grid()\n",
        "\n",
        "plt.tight_layout()\n",
        "plt.show()\n"
      ]
    },
    {
      "cell_type": "code",
      "source": [],
      "metadata": {
        "id": "groBiLqIZeu5"
      },
      "execution_count": 174,
      "outputs": []
    }
  ],
  "metadata": {
    "colab": {
      "name": "Welcome To Colab",
      "provenance": [],
      "toc_visible": true,
      "include_colab_link": true
    },
    "kernelspec": {
      "display_name": "Python 3",
      "name": "python3"
    }
  },
  "nbformat": 4,
  "nbformat_minor": 0
}