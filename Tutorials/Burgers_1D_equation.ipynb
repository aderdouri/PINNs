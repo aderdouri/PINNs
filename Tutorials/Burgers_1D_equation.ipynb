{
 "cells": [
  {
   "cell_type": "markdown",
   "metadata": {},
   "source": [
    "[![Open in Colab](https://colab.research.google.com/assets/colab-badge.svg)](https://colab.research.google.com/github/aderdouri/PINNs/blob/master/Tutorials/Burgers_1D_equation.ipynb)"
   ]
  },
  {
   "cell_type": "code",
   "execution_count": null,
   "metadata": {
    "vscode": {
     "languageId": "plaintext"
    }
   },
   "outputs": [],
   "source": [
    "import torch\n",
    "import torch.nn as nn\n",
    "import numpy as np\n",
    "import matplotlib.pyplot as plt"
   ]
  },
  {
   "cell_type": "code",
   "execution_count": null,
   "metadata": {
    "vscode": {
     "languageId": "plaintext"
    }
   },
   "outputs": [],
   "source": [
    "# Define the neural network\n",
    "class PINN(nn.Module):\n",
    "    def __init__(self, layers):\n",
    "        super(PINN, self).__init__()\n",
    "        self.layers = nn.ModuleList()\n",
    "        for i in range(len(layers) - 1):\n",
    "            self.layers.append(nn.Linear(layers[i], layers[i+1]))\n",
    "\n",
    "    def forward(self, x):\n",
    "        for i, layer in enumerate(self.layers[:-1]):\n",
    "            x = torch.tanh(layer(x))\n",
    "        x = self.layers[-1](x)\n",
    "        return x\n",
    "\n",
    "# Define the physics-informed loss\n",
    "class PhysicsInformedLoss:\n",
    "    def __init__(self, model, x_f, t_f, nu):\n",
    "        self.model = model\n",
    "        self.x_f = x_f\n",
    "        self.t_f = t_f\n",
    "        self.nu = nu\n",
    "\n",
    "    def __call__(self):\n",
    "        # Compute predictions\n",
    "        X_f = torch.cat((self.x_f, self.t_f), dim=1).requires_grad_(True)\n",
    "        u = self.model(X_f)\n",
    "\n",
    "        # Compute partial derivatives\n",
    "        u_t = torch.autograd.grad(u.sum(), self.t_f, create_graph=True)[0]\n",
    "        u_x = torch.autograd.grad(u.sum(), self.x_f, create_graph=True)[0]\n",
    "        u_xx = torch.autograd.grad(u_x.sum(), self.x_f, create_graph=True)[0]\n",
    "\n",
    "        # Burgers' equation residual\n",
    "        f = u_t + u * u_x - self.nu * u_xx\n",
    "        return torch.mean(f**2)\n",
    "\n",
    "# Generate training data\n",
    "def generate_training_data(N_u, N_f):\n",
    "    # Boundary conditions\n",
    "    x_left = torch.zeros((N_u, 1))\n",
    "    x_right = torch.ones((N_u, 1))\n",
    "    t_bc = torch.rand((N_u, 1))\n",
    "\n",
    "    # Initial condition\n",
    "    x_ic = torch.rand((N_u, 1))\n",
    "    t_ic = torch.zeros((N_u, 1))\n",
    "\n",
    "    u_left = torch.zeros((N_u, 1))\n",
    "    u_right = torch.zeros((N_u, 1))\n",
    "    u_ic = -torch.sin(np.pi * x_ic)\n",
    "\n",
    "    # Collocation points\n",
    "    x_f = torch.rand((N_f, 1))\n",
    "    t_f = torch.rand((N_f, 1))\n",
    "\n",
    "    # Boundary and initial data\n",
    "    x_bc = torch.cat((x_left, x_right, x_ic), dim=0)\n",
    "    t_bc = torch.cat((t_bc, t_bc, t_ic), dim=0)\n",
    "    u_bc = torch.cat((u_left, u_right, u_ic), dim=0)\n",
    "\n",
    "    return x_bc, t_bc, u_bc, x_f, t_f"
   ]
  },
  {
   "cell_type": "code",
   "execution_count": null,
   "metadata": {
    "vscode": {
     "languageId": "plaintext"
    }
   },
   "outputs": [],
   "source": [
    "# Hyperparameters\n",
    "layers = [2, 20, 20, 20, 1]\n",
    "nu = 0.01 / np.pi\n",
    "N_u = 50\n",
    "N_f = 10000\n",
    "epochs = 10000\n",
    "lr = 1e-3\n",
    "\n",
    "# Generate data\n",
    "x_bc, t_bc, u_bc, x_f, t_f = generate_training_data(N_u, N_f)\n",
    "\n",
    "# Initialize model and optimizer\n",
    "model = PINN(layers)\n",
    "optimizer = torch.optim.Adam(model.parameters(), lr=lr)\n",
    "\n",
    "# Training loop\n",
    "for epoch in range(epochs):\n",
    "    # Compute boundary loss\n",
    "    X_bc = torch.cat((x_bc, t_bc), dim=1)\n",
    "    u_pred = model(X_bc)\n",
    "    loss_bc = torch.mean((u_pred - u_bc) ** 2)\n",
    "\n",
    "    # Compute physics loss\n",
    "    physics_loss_fn = PhysicsInformedLoss(model, x_f, t_f, nu)\n",
    "    loss_f = physics_loss_fn()\n",
    "\n",
    "    # Total loss\n",
    "    loss = loss_bc + loss_f\n",
    "\n",
    "    # Backpropagation\n",
    "    optimizer.zero_grad()\n",
    "    loss.backward()\n",
    "    optimizer.step()\n",
    "\n",
    "    if epoch % 1000 == 0:\n",
    "        print(f\"Epoch {epoch}, Loss: {loss.item():.5f}\")\n",
    "\n",
    "# Visualization\n",
    "x = np.linspace(0, 1, 100)\n",
    "t = np.linspace(0, 1, 100)\n",
    "X, T = np.meshgrid(x, t)\n",
    "X_star = torch.tensor(np.hstack((X.flatten()[:, None], T.flatten()[:, None])), dtype=torch.float32)\n",
    "\n",
    "u_pred = model(X_star).detach().numpy()\n",
    "U_pred = u_pred.reshape(X.shape)\n",
    "\n",
    "plt.figure(figsize=(10, 5))\n",
    "plt.imshow(U_pred, interpolation='nearest', cmap='rainbow', \n",
    "           extent=[0, 1, 0, 1], origin='lower', aspect='auto')\n",
    "plt.colorbar(label='u(x,t)')\n",
    "plt.xlabel('x')\n",
    "plt.ylabel('t')\n",
    "plt.title('Predicted Solution')\n",
    "plt.show()\n"
   ]
  }
 ],
 "metadata": {
  "language_info": {
   "name": "python"
  }
 },
 "nbformat": 4,
 "nbformat_minor": 2
}
