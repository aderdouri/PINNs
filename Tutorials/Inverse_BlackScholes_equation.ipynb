{
  "cells": [
    {
      "cell_type": "markdown",
      "metadata": {
        "id": "view-in-github",
        "colab_type": "text"
      },
      "source": [
        "<a href=\"https://colab.research.google.com/github/aderdouri/PINNs/blob/master/Tutorials/Inverse_BlackScholes_equation.ipynb\" target=\"_parent\"><img src=\"https://colab.research.google.com/assets/colab-badge.svg\" alt=\"Open In Colab\"/></a>"
      ]
    },
    {
      "cell_type": "markdown",
      "source": [
        "## Black-Scholes Partial Differential Equation (PDE)\n",
        "The value of an option $V(S, t)$ satisfies the Black-Scholes PDE:\n",
        "$$\n",
        "\\frac{\\partial V}{\\partial t} + \\frac{1}{2} \\sigma^2 S^2 \\frac{\\partial^2 V}{\\partial S^2} + r S \\frac{\\partial V}{\\partial S} - r V = 0\n",
        "$$\n",
        "\n",
        "### Initial and Boundary Conditions of the Black-Scholes PDE\n",
        "\n",
        "The initial and boundary conditions for the Black-Scholes PDE depend on the type of derivative being priced, such as European call or put options. These conditions are necessary for solving the PDE and obtaining specific option prices. We will consider a Call option.\n",
        "\n",
        "- $\\textbf{Initial Condition}$ (at $t = T$):\n",
        "    - $\\text{Call: } V(S, T) = \\max(S - K, 0)$ \\\\\n",
        "- $\\textbf{Boundary Conditions:}$\n",
        "  - $V(0, t) = 0$ \\\\\n",
        "  - $V(S, t) \\to S - K e^{-r(T-t)} \\quad \\text{as } S \\to \\infty$\n",
        "\n",
        "These conditions, combined with the Black-Scholes PDE, provide a complete specification for determining the price of the option.\n"
      ],
      "metadata": {
        "id": "zQ4HCtUSmuCQ"
      }
    },
    {
      "cell_type": "markdown",
      "metadata": {
        "id": "A_9U59_Yer5p"
      },
      "source": [
        "## Implementation"
      ]
    },
    {
      "cell_type": "code",
      "source": [
        "import torch\n",
        "import torch.nn.functional as F\n",
        "import numpy as np\n",
        "import torch.nn as nn\n",
        "import matplotlib.pyplot as plt"
      ],
      "metadata": {
        "id": "IAzwVqmj9cKx"
      },
      "execution_count": 1,
      "outputs": []
    },
    {
      "cell_type": "markdown",
      "source": [
        "## Analytic formula"
      ],
      "metadata": {
        "id": "3FsXuSNm9dWj"
      }
    },
    {
      "cell_type": "code",
      "source": [
        "def black_scholes(S, t, T=1.0, K=120, r=0.05, sigma=0.20, option_type=\"call\"):\n",
        "    \"\"\"\n",
        "    Compute the Black-Scholes option price.\n",
        "\n",
        "    Args:\n",
        "        S (torch.Tensor): Current stock price.\n",
        "        T (float): Time to maturity.\n",
        "        t (float): Current time (typically 0).\n",
        "        K (float): Strike price.\n",
        "        r (float): Risk-free interest rate.\n",
        "        sigma (float): Volatility of the stock price.\n",
        "        option_type (str): \"call\" or \"put\".\n",
        "\n",
        "    Returns:\n",
        "        torch.Tensor: Option price.\n",
        "    \"\"\"\n",
        "    # Ensure inputs are PyTorch tensors and have the correct dtype\n",
        "    S = S.type(torch.float32) # Changed to type casting\n",
        "\n",
        "    # Time to maturity\n",
        "    tau = T - t\n",
        "\n",
        "    # Avoid division by zero for tau = 0\n",
        "    epsilon = 1e-8\n",
        "\n",
        "    # Convert r and tau to tensors\n",
        "    r = torch.tensor(r, dtype=torch.float32)\n",
        "    tau = torch.tensor(tau, dtype=torch.float32)\n",
        "\n",
        "    # Compute d1 and d2\n",
        "    # Use tau and epsilon directly for torch.sqrt, no need to create new tensors\n",
        "    d1 = (torch.log(S / K) + (r + 0.5 * sigma**2) * tau) / (sigma * torch.sqrt(tau + epsilon))\n",
        "    d2 = d1 - sigma * torch.sqrt(tau + epsilon)\n",
        "\n",
        "    # Compute N(d1) and N(d2) using the cumulative distribution function\n",
        "    N_d1 = 0.5 * (1.0 + torch.erf(d1 / torch.sqrt(torch.tensor(2.0))))\n",
        "    N_d2 = 0.5 * (1.0 + torch.erf(d2 / torch.sqrt(torch.tensor(2.0))))\n",
        "\n",
        "    # Compute the call or put price\n",
        "    if option_type == \"call\":\n",
        "        option_price = S * N_d1 - K * torch.exp(-r * tau) * N_d2\n",
        "    elif option_type == \"put\":\n",
        "        option_price = K * torch.exp(-r * tau) * (1.0 - N_d2) - S * (1.0 - N_d1)\n",
        "    else:\n",
        "        raise ValueError(\"Invalid option_type. Must be 'call' or 'put'.\")\n",
        "\n",
        "    return option_price"
      ],
      "metadata": {
        "id": "YCgXDrWjNGEU"
      },
      "execution_count": 2,
      "outputs": []
    },
    {
      "cell_type": "code",
      "execution_count": 6,
      "metadata": {
        "id": "9mH21Ymv542P"
      },
      "outputs": [],
      "source": [
        "def bs_pde_residual(model, S, t):\n",
        "    \"\"\"\n",
        "    Compute the PDE residual for the Black-Scholes equation:\n",
        "    dV/dt + 0.5 * sigma^2 * S^2 * d^2V/dS^2 + r * S * dV/dS - r * V = 0\n",
        "\n",
        "    Args:\n",
        "        model (torch.nn.Module): The PINN model that predicts V(S, t).\n",
        "        S (torch.Tensor): Asset price tensor (requires_grad=True).\n",
        "        t (torch.Tensor): Time tensor (requires_grad=True).\n",
        "\n",
        "    Returns:\n",
        "        torch.Tensor: The residual of the Black-Scholes PDE.\n",
        "    \"\"\"\n",
        "    # Ensure gradients can be computed for S and t\n",
        "    S.requires_grad = True\n",
        "    t.requires_grad = True\n",
        "\n",
        "    # Model prediction for V(S, t)\n",
        "    V = model(S, t)\n",
        "\n",
        "    # First-order derivative w.r.t. S\n",
        "    V_S = torch.autograd.grad( V, S, grad_outputs=torch.ones_like(V), create_graph=True)[0]\n",
        "\n",
        "    # First-order derivative w.r.t. t\n",
        "    V_t = torch.autograd.grad(V, t, grad_outputs=torch.ones_like(V), create_graph=True)[0]\n",
        "\n",
        "    # Second-order derivative w.r.t. S\n",
        "    V_SS = torch.autograd.grad(V_S, S, grad_outputs=torch.ones_like(V_S), create_graph=True)[0]\n",
        "\n",
        "    # PDE residual\n",
        "    residual = V_t + 0.5 * (model.sigma)**2 * S**2 * V_SS + model.r * S * V_S - model.r * V\n",
        "\n",
        "    # Debugging prints (optional, for tracking intermediate values)\n",
        "    #if torch.isnan(residual).any():\n",
        "    #    print(\"NaN detected in residual!\")\n",
        "    #print(f\"V_t: {V_t.mean().item()}, V_S: {V_S.mean().item()}, V_SS: {V_SS.mean().item()}, Residual: {residual.mean().item()}\")\n",
        "\n",
        "    return residual\n",
        "\n",
        "# Step 2: Define the PINN model\n",
        "import torch\n",
        "import torch.nn as nn\n",
        "\n",
        "class PINN(nn.Module):\n",
        "    \"\"\"Physics-Informed Neural Network for Black-Scholes equation.\"\"\"\n",
        "    def __init__(self):\n",
        "        super(PINN, self).__init__()\n",
        "        self.hidden_layers = nn.Sequential(\n",
        "            nn.Linear(2, 50),  # Inputs: (S, t)\n",
        "            nn.Tanh(),\n",
        "            nn.Linear(50, 50),\n",
        "            nn.Tanh(),\n",
        "            nn.Linear(50, 50),\n",
        "            nn.Tanh(),\n",
        "            nn.Linear(50, 1)  # Output: V(S, t)\n",
        "        )\n",
        "\n",
        "        # Define r and sigma as trainable parameters\n",
        "        self.r = nn.Parameter(torch.tensor(0.05, dtype=torch.float32, requires_grad=True))\n",
        "        self.sigma = nn.Parameter(torch.tensor(0.30, dtype=torch.float32, requires_grad=True))\n",
        "\n",
        "        # Initialize weights\n",
        "        self.init_weights()\n",
        "\n",
        "    def init_weights(self):\n",
        "        for layer in self.hidden_layers:\n",
        "            if isinstance(layer, nn.Linear):\n",
        "                nn.init.kaiming_normal_(layer.weight, nonlinearity='relu')\n",
        "                nn.init.zeros_(layer.bias)\n",
        "\n",
        "    def forward(self, S, t):\n",
        "        input_tensor = torch.cat((S, t), dim=1)  # Combine S and t\n",
        "        return self.hidden_layers(input_tensor)\n",
        "\n",
        "    def print_params(self):\n",
        "        print(f\"r: {self.r.item():.6f}, sigma: {self.sigma.item():.6f}\")\n",
        "\n",
        "\n",
        "# Step 3: Define the loss function\n",
        "def compute_loss(model, S_interior, t_interior,\n",
        "                 S_boundary, t_boundary, V_boundary,\n",
        "                 S_initial, t_initial, V_initial, epoch=0):\n",
        "    \"\"\"Compute the combined loss for the PDE residual, boundary, and initial conditions.\"\"\"\n",
        "\n",
        "    # PDE residual loss\n",
        "    residual = bs_pde_residual(model, S_interior, t_interior)\n",
        "    pde_loss = torch.mean(residual**2)\n",
        "\n",
        "    # Boundary condition loss:\n",
        "    # V(0, t)=0\n",
        "    # V(S, t)→S-K*exp(−r(T−t))as 𝑆→∞\n",
        "\n",
        "    # Pass S_boundary[0] and t_boundary as separate arguments\n",
        "    V_boundary_low_pred = model(S_boundary[0], t_boundary)\n",
        "    # Pass S_boundary[1] and t_boundary as separate arguments\n",
        "    V_boundary_high_pred = model(S_boundary[1], t_boundary)\n",
        "    bc_loss = torch.mean((V_boundary_low_pred - V_boundary[0])**2) + \\\n",
        "              torch.mean((V_boundary_high_pred - V_boundary[1])**2)\n",
        "\n",
        "\n",
        "    # Initial condition loss:\n",
        "    # (at 𝑡=𝑇): 𝑉(𝑆,𝑇)=max(𝑆−𝐾,0)\n",
        "    V_initial_pred = model(S_initial, t_initial)  # Pass S_initial and t_initial as separate arguments\n",
        "    ic_loss = torch.mean((V_initial_pred - V_initial)**2)\n",
        "\n",
        "    if epoch % 100 == 0:\n",
        "      print(f\"Adam Epoch {epoch}, PDE Loss: {pde_loss.item()}, BC Loss: {bc_loss.item()}, IC Loss: {ic_loss.item()}\")\n",
        "\n",
        "    return pde_loss + bc_loss + ic_loss\n",
        "\n",
        "# Step 4: Training the model\n",
        "def train_pinn(model, S_interior, t_interior,\n",
        "               S_boundary, t_boundary, V_boundary,\n",
        "               S_initial, t_initial, V_initial, adam_epochs=1000, lbfgs_epochs=500):\n",
        "    \"\"\"Train the PINN model using Adam and LBFGS optimizers.\"\"\"\n",
        "    # Adam optimizer for initial training\n",
        "    optimizer_adam = torch.optim.Adam(model.parameters(), lr=0.001)\n",
        "    for epoch in range(adam_epochs):\n",
        "        optimizer_adam.zero_grad()\n",
        "        loss = compute_loss(model, S_interior, t_interior,\n",
        "                            S_boundary, t_boundary, V_boundary,\n",
        "                            S_initial, t_initial, V_initial, epoch)\n",
        "        loss.backward()\n",
        "        optimizer_adam.step()\n",
        "        if epoch % 100 == 0:\n",
        "          print(f\"Epoch {epoch}, Sigma Gradient: {model.sigma.grad}, r Gradient: {model.r.grad}\")\n",
        "          print(f\"Epoch {epoch}, Loss: {loss.item():.6f}, r: {model.r.item():.6f}, sigma: {model.sigma.item():.6f}\")\n",
        "\n",
        "\n",
        "    for name, param in model.named_parameters():\n",
        "        if param.requires_grad:\n",
        "            print('param.requires_grad:', name)\n",
        "\n",
        "\n",
        "    # LBFGS optimizer for fine-tuning\n",
        "    optimizer_lbfgs = torch.optim.LBFGS(model.parameters(), max_iter=lbfgs_epochs,\n",
        "                                        tolerance_grad=1e-7, tolerance_change=1e-9)\n",
        "\n",
        "    lbfgs_iter = 0\n",
        "    def closure():\n",
        "        nonlocal lbfgs_iter\n",
        "        optimizer_lbfgs.zero_grad()\n",
        "        loss = compute_loss(model, S_interior, t_interior,\n",
        "                            S_boundary, t_boundary, V_boundary,\n",
        "                            S_initial, t_initial, V_initial, 1)\n",
        "        loss.backward()\n",
        "        if lbfgs_iter % 100 == 0:\n",
        "            print(f\"LBFGS Iteration {lbfgs_iter}, Loss: {loss.item():.6f}, r: {model.r.item():.6f}, sigma: {model.sigma.item():.6f}\")\n",
        "\n",
        "        lbfgs_iter += 1\n",
        "\n",
        "        return loss\n",
        "\n",
        "    print(\"Starting LBFGS optimization...\")\n",
        "    optimizer_lbfgs.step(closure)"
      ]
    },
    {
      "cell_type": "code",
      "execution_count": 7,
      "metadata": {
        "id": "LwX0xINUSFPP"
      },
      "outputs": [],
      "source": [
        "# Underlying asset and time are normalized BUT not option Values\n",
        "# This setup ensures the inputs are normalized for stable training,\n",
        "# while the target outputs remain unnormalized to preserve\n",
        "# the real-world scale of the option values.\n",
        "\n",
        "S_max = 150.0\n",
        "S_min = 50.0\n",
        "K = 100.0\n",
        "T = 5.0\n",
        "r = 0.05\n",
        "\n",
        "S = torch.linspace(S_min, S_max, 100).view(-1, 1)\n",
        "# Normalize S\n",
        "S_norm = (S - S_min) / (S_max - S_min)\n",
        "t = torch.linspace(0, T, 100).view(-1, 1)\n",
        "t_norm = (t - 0) / (T - 0)\n",
        "\n",
        "# Create mesh grid for interior points\n",
        "S_grid, t_grid = torch.meshgrid(S_norm.squeeze(), S_norm.squeeze(), indexing='ij')\n",
        "S_interior = S_grid.flatten().view(-1, 1)\n",
        "t_interior = t_grid.flatten().view(-1, 1)\n",
        "\n",
        "# Boundary points\n",
        "# V(0, t)=0\n",
        "# V(S, t)→S-K*exp(−r(T−t))as 𝑆→∞\n",
        "t_boundary = S_norm\n",
        "S_boundary = [torch.full_like(t, 0), torch.full_like(t, 1.0)]\n",
        "V_boundary = [torch.full_like(t, 0), S_max - K * torch.exp(-r * (T - t))]\n",
        "\n",
        "\n",
        "# Initial points\n",
        "# (at 𝑡=𝑇): 𝑉(𝑆, 𝑇)=max(𝑆−𝐾, 0)\n",
        "S_initial = S_norm\n",
        "t_initial = torch.full_like(t, 1.0)\n",
        "V_initial = torch.maximum(S - K, torch.tensor(0.0))"
      ]
    },
    {
      "cell_type": "code",
      "execution_count": 8,
      "metadata": {
        "id": "UZG088B9RtNz",
        "colab": {
          "base_uri": "https://localhost:8080/"
        },
        "outputId": "f1862bda-0cfd-4654-976c-94ff9daf0a99"
      },
      "outputs": [
        {
          "output_type": "stream",
          "name": "stdout",
          "text": [
            "Adam Epoch 0, PDE Loss: 0.2691410481929779, BC Loss: 3808.58544921875, IC Loss: 418.8731384277344\n",
            "Epoch 0, Sigma Gradient: 0.04772774875164032, r Gradient: -0.15586227178573608\n",
            "Epoch 0, Loss: 4227.727539, r: 0.051000, sigma: 0.299000\n",
            "Adam Epoch 100, PDE Loss: 10.215310096740723, BC Loss: 2538.344482421875, IC Loss: 218.1675262451172\n",
            "Epoch 100, Sigma Gradient: 3.561765670776367, r Gradient: 4.370718002319336\n",
            "Epoch 100, Loss: 2766.727295, r: -0.050164, sigma: 0.164366\n",
            "Adam Epoch 200, PDE Loss: 19.045330047607422, BC Loss: 2051.507080078125, IC Loss: 169.82479858398438\n",
            "Epoch 200, Sigma Gradient: 2.1889212131500244, r Gradient: 0.8461265563964844\n",
            "Epoch 200, Loss: 2240.377197, r: -0.105402, sigma: 0.047575\n",
            "Adam Epoch 300, PDE Loss: 17.349220275878906, BC Loss: 1668.9366455078125, IC Loss: 118.13937377929688\n",
            "Epoch 300, Sigma Gradient: 0.2034270167350769, r Gradient: -9.913398742675781\n",
            "Epoch 300, Loss: 1804.425293, r: -0.052260, sigma: 0.003633\n",
            "Adam Epoch 400, PDE Loss: 4.9002485275268555, BC Loss: 1328.244140625, IC Loss: 56.84661102294922\n",
            "Epoch 400, Sigma Gradient: -0.005949309095740318, r Gradient: 5.37890625\n",
            "Epoch 400, Loss: 1389.990967, r: 0.107576, sigma: 0.000405\n",
            "Adam Epoch 500, PDE Loss: 1.807426929473877, BC Loss: 1046.3013916015625, IC Loss: 32.4232177734375\n",
            "Epoch 500, Sigma Gradient: -0.7634131908416748, r Gradient: 2.0178489685058594\n",
            "Epoch 500, Loss: 1080.531982, r: 0.049656, sigma: 0.007778\n",
            "Adam Epoch 600, PDE Loss: 0.7935117483139038, BC Loss: 819.7184448242188, IC Loss: 18.203920364379883\n",
            "Epoch 600, Sigma Gradient: 0.766624391078949, r Gradient: 0.3622102737426758\n",
            "Epoch 600, Loss: 838.715881, r: 0.026391, sigma: 0.014402\n",
            "Adam Epoch 700, PDE Loss: 0.6906821131706238, BC Loss: 637.7400512695312, IC Loss: 9.538957595825195\n",
            "Epoch 700, Sigma Gradient: 0.008559536188840866, r Gradient: 0.019945144653320312\n",
            "Epoch 700, Loss: 647.969666, r: 0.020510, sigma: 0.000062\n",
            "Adam Epoch 800, PDE Loss: 0.5979756712913513, BC Loss: 492.8396911621094, IC Loss: 4.7305402755737305\n",
            "Epoch 800, Sigma Gradient: -2.423764453851618e-05, r Gradient: -0.217529296875\n",
            "Epoch 800, Loss: 498.168182, r: 0.022821, sigma: -0.000000\n",
            "Adam Epoch 900, PDE Loss: 0.46667152643203735, BC Loss: 378.5391540527344, IC Loss: 2.296945810317993\n",
            "Epoch 900, Sigma Gradient: 1.2978122754248034e-07, r Gradient: -0.23081207275390625\n",
            "Epoch 900, Loss: 381.302765, r: 0.027958, sigma: 0.000000\n",
            "param.requires_grad: r\n",
            "param.requires_grad: sigma\n",
            "param.requires_grad: hidden_layers.0.weight\n",
            "param.requires_grad: hidden_layers.0.bias\n",
            "param.requires_grad: hidden_layers.2.weight\n",
            "param.requires_grad: hidden_layers.2.bias\n",
            "param.requires_grad: hidden_layers.4.weight\n",
            "param.requires_grad: hidden_layers.4.bias\n",
            "param.requires_grad: hidden_layers.6.weight\n",
            "param.requires_grad: hidden_layers.6.bias\n",
            "Starting LBFGS optimization...\n",
            "LBFGS Iteration 0, Loss: 291.086121, r: 0.033588, sigma: -0.000000\n",
            "LBFGS Iteration 100, Loss: 0.044232, r: 0.361013, sigma: -0.000001\n",
            "LBFGS Iteration 200, Loss: 0.009309, r: 0.409249, sigma: -0.014689\n",
            "LBFGS Iteration 300, Loss: 0.005126, r: 0.428901, sigma: 0.004553\n",
            "LBFGS Iteration 400, Loss: 0.003282, r: 0.458199, sigma: 0.013368\n",
            "LBFGS Iteration 500, Loss: 0.001988, r: 0.470295, sigma: 0.013473\n",
            "LBFGS Iteration 600, Loss: 0.001398, r: 0.494938, sigma: 0.017057\n",
            "LBFGS Iteration 700, Loss: 0.000970, r: 0.487726, sigma: 0.016436\n",
            "LBFGS Iteration 800, Loss: 0.000764, r: 0.484287, sigma: 0.015918\n",
            "LBFGS Iteration 900, Loss: 0.000598, r: 0.488407, sigma: 0.013788\n",
            "LBFGS Iteration 1000, Loss: 0.000473, r: 0.491414, sigma: 0.015311\n",
            "LBFGS Iteration 1100, Loss: 0.000398, r: 0.492510, sigma: 0.015539\n",
            "LBFGS Iteration 1200, Loss: 0.000330, r: 0.490727, sigma: 0.014765\n",
            "LBFGS Iteration 1300, Loss: 0.000284, r: 0.490399, sigma: 0.013959\n",
            "LBFGS Iteration 1400, Loss: 0.000248, r: 0.491734, sigma: 0.011692\n",
            "LBFGS Iteration 1500, Loss: 0.000222, r: 0.491427, sigma: 0.012019\n",
            "LBFGS Iteration 1600, Loss: 0.000205, r: 0.495403, sigma: 0.011871\n",
            "LBFGS Iteration 1700, Loss: 0.000185, r: 0.494617, sigma: 0.011925\n",
            "LBFGS Iteration 1800, Loss: 0.000174, r: 0.495371, sigma: 0.012002\n",
            "LBFGS Iteration 1900, Loss: 0.000153, r: 0.497250, sigma: 0.012189\n",
            "LBFGS Iteration 2000, Loss: 0.000132, r: 0.498025, sigma: 0.012108\n",
            "LBFGS Iteration 2100, Loss: 0.000120, r: 0.496693, sigma: 0.011818\n",
            "LBFGS Iteration 2200, Loss: 0.000109, r: 0.496731, sigma: 0.011487\n",
            "LBFGS Iteration 2300, Loss: 0.000101, r: 0.495625, sigma: 0.010774\n",
            "LBFGS Iteration 2400, Loss: 0.000096, r: 0.495641, sigma: 0.010344\n",
            "LBFGS Iteration 2500, Loss: 0.000088, r: 0.496538, sigma: 0.010178\n",
            "LBFGS Iteration 2600, Loss: 0.000084, r: 0.498028, sigma: 0.010089\n",
            "LBFGS Iteration 2700, Loss: 0.000079, r: 0.498737, sigma: 0.009960\n",
            "LBFGS Iteration 2800, Loss: 0.000073, r: 0.499266, sigma: 0.009104\n",
            "LBFGS Iteration 2900, Loss: 0.000068, r: 0.498987, sigma: 0.008652\n",
            "LBFGS Iteration 3000, Loss: 0.000060, r: 0.499851, sigma: 0.009292\n",
            "LBFGS Iteration 3100, Loss: 0.000056, r: 0.499896, sigma: 0.009343\n",
            "LBFGS Iteration 3200, Loss: 0.000054, r: 0.500797, sigma: 0.009194\n",
            "LBFGS Iteration 3300, Loss: 0.000050, r: 0.498407, sigma: 0.009414\n",
            "LBFGS Iteration 3400, Loss: 0.000047, r: 0.497653, sigma: 0.009202\n",
            "LBFGS Iteration 3500, Loss: 0.000043, r: 0.496673, sigma: 0.008618\n"
          ]
        }
      ],
      "source": [
        "# Step 6: Initialize and train the PINN\n",
        "model = PINN()\n",
        "train_pinn(model, S_interior, t_interior, S_boundary, t_boundary, V_boundary,\n",
        "           S_initial, t_initial, V_initial,\n",
        "           adam_epochs=1000, lbfgs_epochs=50000)"
      ]
    },
    {
      "cell_type": "code",
      "execution_count": 11,
      "metadata": {
        "colab": {
          "base_uri": "https://localhost:8080/"
        },
        "id": "1IZHsz5WRxLP",
        "outputId": "bbc9a903-4351-4f67-a911-a19b5e8fd62a"
      },
      "outputs": [
        {
          "output_type": "stream",
          "name": "stdout",
          "text": [
            "[[ 0.000467  0.000468  0.000469 ...  0.000141  0.000136  0.000131]\n",
            " [ 0.000463  0.000465  0.000465 ...  0.000137  0.000133  0.000128]\n",
            " [ 0.00046   0.00046   0.000462 ...  0.000132  0.000129  0.000123]\n",
            " ...\n",
            " [69.87434  69.68021  69.4854   ... 48.476643 48.226395 47.975243]\n",
            " [70.99406  70.79939  70.604004 ... 49.49112  49.240128 48.988277]\n",
            " [72.114395 71.919395 71.72357  ... 50.507294 50.255463 50.002815]]\n",
            "[[ 2.328528  2.273104  2.218119 ...  0.        0.        0.      ]\n",
            " [ 2.559029  2.500034  2.441475 ...  0.        0.        0.      ]\n",
            " [ 2.803271  2.740661  2.678473 ...  0.        0.        0.      ]\n",
            " ...\n",
            " [71.698784 71.49028  71.28107  ... 48.483574 48.232002 47.979797]\n",
            " [72.66059  72.45214  72.24301  ... 49.493675 49.242104 48.9899  ]\n",
            " [73.62392  73.41553  73.20644  ... 50.503777 50.252205 50.      ]]\n"
          ]
        },
        {
          "output_type": "stream",
          "name": "stderr",
          "text": [
            "<ipython-input-2-57165c588757>:28: UserWarning: To copy construct from a tensor, it is recommended to use sourceTensor.clone().detach() or sourceTensor.clone().detach().requires_grad_(True), rather than torch.tensor(sourceTensor).\n",
            "  tau = torch.tensor(tau, dtype=torch.float32)\n"
          ]
        }
      ],
      "source": [
        "#torch.set_printoptions(sci_mode=False)\n",
        "np.set_printoptions(suppress=True, precision=6)\n",
        "\n",
        "# Step 7: Visualize the results\n",
        "# Create a grid for prediction\n",
        "S_pred = torch.linspace(S_min, S_max, 100).view(-1, 1)\n",
        "S_pred_norm = (S_pred - S_min) / (S_max - S_min)\n",
        "\n",
        "t_pred = torch.linspace(0, T, 100).view(-1, 1)\n",
        "t_pred_norm = (t_pred - 0) / (T - 0)\n",
        "S_grid_pred, t_grid_pred = torch.meshgrid(S_pred_norm.squeeze(), t_pred_norm.squeeze(),\n",
        "                                          indexing='ij')\n",
        "S_flat = S_grid_pred.flatten().view(-1, 1)\n",
        "t_flat = t_grid_pred.flatten().view(-1, 1)\n",
        "\n",
        "# Make predictions using the trained model\n",
        "model.eval()  # Set the model to evaluation mode\n",
        "with torch.no_grad():  # Disable gradient computation for inference\n",
        "    V_pred = model(S_flat, t_flat).detach().numpy()\n",
        "\n",
        "V_pred = V_pred.reshape(100, 100)\n",
        "print(V_pred)\n",
        "\n",
        "\n",
        "# black_scholes(S, t, T, K, r, sigma)\n",
        "sigma = 0.20\n",
        "S_grid_pred, t_grid_pred = torch.meshgrid(S_pred.squeeze(), t_pred.squeeze(),\n",
        "                                          indexing='ij')\n",
        "S_flat = S_grid_pred.flatten().view(-1, 1)\n",
        "t_flat = t_grid_pred.flatten().view(-1, 1)\n",
        "V_exact = black_scholes(S_flat, t_flat, T, K, r, sigma)\n",
        "V_exact = V_exact.reshape(100, 100)\n",
        "print(V_exact.detach().numpy())"
      ]
    },
    {
      "cell_type": "code",
      "source": [
        "V_pred.shape, V_pred[:, 99]"
      ],
      "metadata": {
        "id": "409QYJGnY-d1",
        "outputId": "1e1a2385-d7c7-4890-ea10-2c91341b4b1f",
        "colab": {
          "base_uri": "https://localhost:8080/"
        }
      },
      "execution_count": 12,
      "outputs": [
        {
          "output_type": "execute_result",
          "data": {
            "text/plain": [
              "((100, 100),\n",
              " array([ 0.000131,  0.000128,  0.000123,  0.000118,  0.000114,  0.000108,\n",
              "         0.000105,  0.0001  ,  0.000094,  0.000089,  0.000083,  0.000076,\n",
              "         0.000072,  0.000065,  0.000057,  0.000053,  0.000046,  0.00004 ,\n",
              "         0.000031,  0.000024,  0.000018,  0.000009,  0.000001, -0.000008,\n",
              "        -0.000019, -0.000031, -0.000045, -0.000059, -0.000078, -0.000101,\n",
              "        -0.000127, -0.000161, -0.000199, -0.000247, -0.000307, -0.00038 ,\n",
              "        -0.000471, -0.000584, -0.000726, -0.000904, -0.001125, -0.00141 ,\n",
              "        -0.001783, -0.002306, -0.003116, -0.004543, -0.007304, -0.012437,\n",
              "        -0.01722 ,  0.026127,  0.501272,  1.515044,  2.525194,  3.539295,\n",
              "         4.543348,  5.552838,  6.565349,  7.576634,  8.586395,  9.595795,\n",
              "        10.605601, 11.615949, 12.626595, 13.637244, 14.647668, 15.657763,\n",
              "        16.66755 , 17.677113, 18.686588, 19.696106, 20.705761, 21.71561 ,\n",
              "        22.725662, 23.735899, 24.746284, 25.756771, 26.767319, 27.777895,\n",
              "        28.788479, 29.799057, 30.809631, 31.820164, 32.830643, 33.84102 ,\n",
              "        34.85125 , 35.86128 , 36.871067, 37.880573, 38.889793, 39.898754,\n",
              "        40.90751 , 41.916153, 42.924828, 43.9337  , 44.942955, 45.952812,\n",
              "        46.963493, 47.975243, 48.988277, 50.002815], dtype=float32))"
            ]
          },
          "metadata": {},
          "execution_count": 12
        }
      ]
    },
    {
      "cell_type": "code",
      "execution_count": 13,
      "metadata": {
        "colab": {
          "base_uri": "https://localhost:8080/",
          "height": 507
        },
        "id": "KDpi-buwYePT",
        "outputId": "0aa858e9-7cbd-441a-9bde-95512db3f755"
      },
      "outputs": [
        {
          "output_type": "display_data",
          "data": {
            "text/plain": [
              "<Figure size 1500x500 with 3 Axes>"
            ],
            "image/png": "[encoded data removed]"
          },
          "metadata": {}
        }
      ],
      "source": [
        "# Step 8: Compare predictions with exact solution at specific time slices\n",
        "time_slices = [25, 75, 99]  # Time slices to compare\n",
        "\n",
        "plt.figure(figsize=(15, 5))\n",
        "\n",
        "for i, t_slice in enumerate(time_slices):\n",
        "    # Extract points for the time slice\n",
        "    t_slice_tensor = torch.full_like(S_pred, t_slice)\n",
        "    V_pred_slice = V_pred[:, t_slice]\n",
        "\n",
        "    # Compute exact solution\n",
        "    V_exact_slice = V_exact[:,t_slice]\n",
        "\n",
        "    # Plot comparison\n",
        "    plt.subplot(1, 3, i + 1)\n",
        "    plt.plot(S_pred.numpy(), V_exact_slice, 'b-', label='Exact', linewidth=2)\n",
        "    plt.plot(S_pred.numpy(), V_pred_slice, 'r--', label='Prediction', linewidth=2)\n",
        "    plt.title(f\"$t = {t_slice}$\")\n",
        "    plt.xlabel(\"$S$\")\n",
        "    plt.ylabel(\"$V(t, S)$\")\n",
        "    plt.legend()\n",
        "    plt.grid()\n",
        "\n",
        "plt.tight_layout()\n",
        "plt.show()\n"
      ]
    },
    {
      "cell_type": "code",
      "source": [],
      "metadata": {
        "id": "pYTsp7D3p46e"
      },
      "execution_count": null,
      "outputs": []
    }
  ],
  "metadata": {
    "colab": {
      "name": "Welcome To Colab",
      "provenance": [],
      "toc_visible": true,
      "include_colab_link": true
    },
    "kernelspec": {
      "display_name": "Python 3",
      "name": "python3"
    }
  },
  "nbformat": 4,
  "nbformat_minor": 0
}