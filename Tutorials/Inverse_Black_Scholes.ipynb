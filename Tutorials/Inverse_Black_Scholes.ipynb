{
  "cells": [
    {
      "cell_type": "markdown",
      "metadata": {
        "id": "view-in-github",
        "colab_type": "text"
      },
      "source": [
        "<a href=\"https://colab.research.google.com/github/aderdouri/PINNs/blob/master/Tutorials/Inverse_Black_Scholes.ipynb\" target=\"_parent\"><img src=\"https://colab.research.google.com/assets/colab-badge.svg\" alt=\"Open In Colab\"/></a>"
      ]
    },
    {
      "cell_type": "markdown",
      "source": [
        "## Black-Scholes Partial Differential Equation (PDE)\n",
        "The value of an option $V(S, t)$ satisfies the Black-Scholes PDE:\n",
        "$$\n",
        "\\frac{\\partial V}{\\partial t} + \\frac{1}{2} \\sigma^2 S^2 \\frac{\\partial^2 V}{\\partial S^2} + r S \\frac{\\partial V}{\\partial S} - r V = 0\n",
        "$$\n",
        "\n",
        "### Initial and Boundary Conditions of the Black-Scholes PDE\n",
        "\n",
        "The initial and boundary conditions for the Black-Scholes PDE depend on the type of derivative being priced, such as European call or put options. These conditions are necessary for solving the PDE and obtaining specific option prices. We will consider a Call option.\n",
        "\n",
        "- $\\textbf{Initial Condition}$ (at $t = T$):\n",
        "    - $\\text{Call: } V(S, T) = \\max(S - K, 0)$ \\\\\n",
        "- $\\textbf{Boundary Conditions:}$\n",
        "  - $V(0, t) = 0$ \\\\\n",
        "  - $V(S, t) \\to S - K e^{-r(T-t)} \\quad \\text{as } S \\to \\infty$\n",
        "\n",
        "These conditions, combined with the Black-Scholes PDE, provide a complete specification for determining the price of the option.\n"
      ],
      "metadata": {
        "id": "zQ4HCtUSmuCQ"
      }
    },
    {
      "cell_type": "markdown",
      "metadata": {
        "id": "A_9U59_Yer5p"
      },
      "source": [
        "## Implementation"
      ]
    },
    {
      "cell_type": "code",
      "source": [
        "import torch\n",
        "import torch.nn.functional as F\n",
        "import numpy as np\n",
        "import torch.nn as nn\n",
        "import matplotlib.pyplot as plt"
      ],
      "metadata": {
        "id": "IAzwVqmj9cKx"
      },
      "execution_count": 1,
      "outputs": []
    },
    {
      "cell_type": "markdown",
      "source": [
        "## Analytic formula"
      ],
      "metadata": {
        "id": "3FsXuSNm9dWj"
      }
    },
    {
      "cell_type": "code",
      "source": [
        "def black_scholes(S, t, T=1.0, K=120, r=0.05, sigma=0.20, option_type=\"call\"):\n",
        "    \"\"\"\n",
        "    Compute the Black-Scholes option price.\n",
        "\n",
        "    Args:\n",
        "        S (torch.Tensor): Current stock price.\n",
        "        T (float): Time to maturity.\n",
        "        t (float): Current time (typically 0).\n",
        "        K (float): Strike price.\n",
        "        r (float): Risk-free interest rate.\n",
        "        sigma (float): Volatility of the stock price.\n",
        "        option_type (str): \"call\" or \"put\".\n",
        "\n",
        "    Returns:\n",
        "        torch.Tensor: Option price.\n",
        "    \"\"\"\n",
        "    # Ensure inputs are PyTorch tensors and have the correct dtype\n",
        "    S = S.type(torch.float32) # Changed to type casting\n",
        "\n",
        "    # Time to maturity\n",
        "    tau = T - t\n",
        "\n",
        "    # Avoid division by zero for tau = 0\n",
        "    epsilon = 1e-8\n",
        "\n",
        "    # Convert r and tau to tensors\n",
        "    r = torch.tensor(r, dtype=torch.float32)\n",
        "    tau = torch.tensor(tau, dtype=torch.float32)\n",
        "\n",
        "    # Compute d1 and d2\n",
        "    # Use tau and epsilon directly for torch.sqrt, no need to create new tensors\n",
        "    d1 = (torch.log(S / K) + (r + 0.5 * sigma**2) * tau) / (sigma * torch.sqrt(tau + epsilon))\n",
        "    d2 = d1 - sigma * torch.sqrt(tau + epsilon)\n",
        "\n",
        "    # Compute N(d1) and N(d2) using the cumulative distribution function\n",
        "    N_d1 = 0.5 * (1.0 + torch.erf(d1 / torch.sqrt(torch.tensor(2.0))))\n",
        "    N_d2 = 0.5 * (1.0 + torch.erf(d2 / torch.sqrt(torch.tensor(2.0))))\n",
        "\n",
        "    # Compute the call or put price\n",
        "    if option_type == \"call\":\n",
        "        option_price = S * N_d1 - K * torch.exp(-r * tau) * N_d2\n",
        "    elif option_type == \"put\":\n",
        "        option_price = K * torch.exp(-r * tau) * (1.0 - N_d2) - S * (1.0 - N_d1)\n",
        "    else:\n",
        "        raise ValueError(\"Invalid option_type. Must be 'call' or 'put'.\")\n",
        "\n",
        "    return option_price"
      ],
      "metadata": {
        "id": "YCgXDrWjNGEU"
      },
      "execution_count": 2,
      "outputs": []
    },
    {
      "cell_type": "code",
      "source": [
        "# Step 2: Define the PINN model\n",
        "class PINN(nn.Module):\n",
        "    \"\"\"Physics-Informed Neural Network for heat equation with Batch Normalization.\"\"\"\n",
        "    def __init__(self):\n",
        "        super(PINN, self).__init__()\n",
        "        self.model = nn.Sequential(\n",
        "            nn.BatchNorm1d(2), # Inputs: (S, t)\n",
        "            nn.Linear(2, 50),\n",
        "            nn.ReLU(),\n",
        "\n",
        "            nn.BatchNorm1d(50),\n",
        "            nn.Linear(50, 50),\n",
        "            nn.ReLU(),\n",
        "\n",
        "            nn.BatchNorm1d(50),\n",
        "            nn.Linear(50, 50),\n",
        "            nn.ReLU(),\n",
        "\n",
        "            nn.BatchNorm1d(50),\n",
        "            nn.Linear(50, 1)\n",
        "        )\n",
        "\n",
        "    def forward(self, x):\n",
        "        return self.model(x)"
      ],
      "metadata": {
        "id": "zFAIPbisTRot"
      },
      "execution_count": 3,
      "outputs": []
    },
    {
      "cell_type": "code",
      "execution_count": 4,
      "metadata": {
        "id": "9mH21Ymv542P"
      },
      "outputs": [],
      "source": [
        "def bs_pde_residual(model, S, t, r=0.05, sigma=0.20):\n",
        "    \"\"\"\n",
        "    Compute the PDE residual for Black-Scholes equation:\n",
        "    \"\"\"\n",
        "    S.requires_grad = True\n",
        "    t.requires_grad = True\n",
        "    V = model(torch.cat((S, t), dim=1))\n",
        "\n",
        "    # Gradients w.r.t. x and t\n",
        "    V_S = torch.autograd.grad(V, S, grad_outputs=torch.ones_like(V), create_graph=True)[0]\n",
        "    V_t = torch.autograd.grad(V, t, grad_outputs=torch.ones_like(V), create_graph=True)[0]\n",
        "\n",
        "    # Second-order derivative w.r.t. S\n",
        "    V_SS = torch.autograd.grad(V_S, S, grad_outputs=torch.ones_like(V_S), create_graph=True)[0]\n",
        "\n",
        "    # PDE residual\n",
        "    residual = V_t + 0.5*sigma**2*S**2*V_SS + r*S*V_S -r*V\n",
        "    return residual\n",
        "\n",
        "# Step 3: Define the loss function\n",
        "def compute_loss(model, S_interior, t_interior,\n",
        "                 S_boundary, t_boundary, V_boundary,\n",
        "                 S_initial, t_initial, V_initial,\n",
        "                 r, sigma, epoch=0):\n",
        "    \"\"\"Compute the combined loss for the PDE residual, boundary, and initial conditions.\"\"\"\n",
        "    # PDE residual loss\n",
        "    residual = bs_pde_residual(model, S_interior, t_interior, r, sigma)\n",
        "    pde_loss = torch.mean(residual**2)\n",
        "\n",
        "    # Boundary condition loss:\n",
        "    # V(0, t)=0\n",
        "    # V(S, t)→S-K*exp(−r(T−t))as 𝑆→∞\n",
        "    V_boundary_low_pred = model(torch.cat((S_boundary[0], t_boundary), dim=1))\n",
        "    V_boundary_high_pred = model(torch.cat((S_boundary[1], t_boundary), dim=1))\n",
        "    bc_loss = torch.mean((V_boundary_low_pred - V_boundary[0])**2) + \\\n",
        "              torch.mean((V_boundary_high_pred - V_boundary[1])**2)\n",
        "\n",
        "\n",
        "    # Initial condition loss:\n",
        "    # (at 𝑡=𝑇): 𝑉(𝑆,𝑇)=max(𝑆−𝐾,0)\n",
        "    V_initial_pred = model(torch.cat((S_initial, t_initial), dim=1))\n",
        "    ic_loss = torch.mean((V_initial_pred - V_initial)**2)\n",
        "\n",
        "    if epoch % 100 == 0:\n",
        "      print(f\"Epoch {epoch}, PDE Loss: {pde_loss.item()}, BC Loss: {bc_loss.item()}, IC Loss: {ic_loss.item()}\")\n",
        "\n",
        "    return pde_loss + bc_loss + ic_loss\n",
        "\n",
        "# Step 4: Training the model\n",
        "def train_pinn(model, S_interior, t_interior,\n",
        "               S_boundary, t_boundary, V_boundary,\n",
        "               S_initial, t_initial, V_initial,\n",
        "               r, sigma, adam_epochs=1000, lbfgs_epochs=500):\n",
        "    \"\"\"Train the PINN model using Adam and LBFGS optimizers.\"\"\"\n",
        "    # Adam optimizer for initial training\n",
        "    optimizer_adam = torch.optim.Adam(model.parameters(), lr=0.001)\n",
        "    for epoch in range(adam_epochs):\n",
        "        optimizer_adam.zero_grad()\n",
        "        loss = compute_loss(model, S_interior, t_interior,\n",
        "                            S_boundary, t_boundary, V_boundary,\n",
        "                            S_initial, t_initial, V_initial,\n",
        "                            r, sigma, epoch)\n",
        "        loss.backward()\n",
        "        optimizer_adam.step()\n",
        "        if epoch % 100 == 0:\n",
        "            print(f\"Adam Epoch {epoch}, Loss: {loss.item()}\")\n",
        "\n",
        "    # LBFGS optimizer for fine-tuning\n",
        "    optimizer_lbfgs = torch.optim.LBFGS(model.parameters(), max_iter=lbfgs_epochs,\n",
        "                                        tolerance_grad=1e-7, tolerance_change=1e-9)\n",
        "\n",
        "    lbfgs_iter = 0\n",
        "\n",
        "    def closure():\n",
        "        nonlocal lbfgs_iter\n",
        "        optimizer_lbfgs.zero_grad()\n",
        "        loss = compute_loss(model, S_interior, t_interior,\n",
        "                            S_boundary, t_boundary, V_boundary,\n",
        "                            S_initial, t_initial, V_initial,\n",
        "                            r, sigma, lbfgs_iter)\n",
        "        loss.backward()\n",
        "        lbfgs_iter += 1\n",
        "        return loss\n",
        "\n",
        "    print(\"Starting LBFGS optimization...\")\n",
        "    optimizer_lbfgs.step(closure)"
      ]
    },
    {
      "cell_type": "code",
      "execution_count": 8,
      "metadata": {
        "id": "LwX0xINUSFPP"
      },
      "outputs": [],
      "source": [
        "S0 = 100.0\n",
        "S_max = 150.0\n",
        "S_min = 0.0\n",
        "K = 100.0\n",
        "T = 1.0\n",
        "r = 0.05\n",
        "sigma = 0.2\n",
        "\n",
        "S = torch.linspace(0, S_max, 100).view(-1, 1)\n",
        "t = torch.linspace(0, T, 100).view(-1, 1)\n",
        "\n",
        "S = (S - S_min) / (S_max - S_min)\n",
        "K = (K - S_min) / (S_max - S_min)\n",
        "\n",
        "\n",
        "S_interior = torch.rand(100, 1) * S_max  # Uniformly sample S in [0, S_max]\n",
        "t_interior = torch.rand(100, 1) * T      # Uniformly sample t in [0, T]\n",
        "\n",
        "S_interior = (S_interior - S_min) / (S_max - S_min)\n",
        "\n",
        "S_grid, t_grid = torch.meshgrid(S_interior.squeeze(), t_interior.squeeze(), indexing='ij')\n",
        "S_interior = S_grid.flatten().view(-1, 1)\n",
        "t_interior = t_grid.flatten().view(-1, 1)\n",
        "\n",
        "S_max_norm = (S_max - S_min) / (S_max - S_min)\n",
        "S_min_norm = S_min / (S_max - S_min)\n",
        "\n",
        "# Boundary points\n",
        "# V(0, t)=0\n",
        "# V(S, t)→S-K*exp(−r(T−t))as 𝑆→∞\n",
        "t_boundary = t\n",
        "S_boundary = [torch.full_like(t, S_min), torch.full_like(t, S_max_norm)]\n",
        "V_boundary = [torch.full_like(t, 0), S_max_norm - K * torch.exp(-r * (T - t))]\n",
        "\n",
        "\n",
        "# Initial points\n",
        "# (at 𝑡=𝑇): 𝑉(𝑆, 𝑇)=max(𝑆−𝐾, 0)\n",
        "S_initial = S\n",
        "t_initial = torch.full_like(t, T)\n",
        "V_initial = torch.maximum(S - K, torch.tensor(0.0))"
      ]
    },
    {
      "cell_type": "code",
      "execution_count": 9,
      "metadata": {
        "colab": {
          "base_uri": "https://localhost:8080/"
        },
        "id": "UZG088B9RtNz",
        "outputId": "b11e16de-5eec-427f-e39f-d768d04df7d1"
      },
      "outputs": [
        {
          "output_type": "stream",
          "name": "stdout",
          "text": [
            "Epoch 0, PDE Loss: 0.0007433546124957502, BC Loss: 0.7847288250923157, IC Loss: 0.7938477993011475\n",
            "Adam Epoch 0, Loss: 1.579319953918457\n",
            "Epoch 100, PDE Loss: 0.00012883443559985608, BC Loss: 0.06401750445365906, IC Loss: 0.006627678871154785\n",
            "Adam Epoch 100, Loss: 0.07077401876449585\n",
            "Epoch 200, PDE Loss: 0.00010968423885060474, BC Loss: 0.06435231864452362, IC Loss: 0.006215446162968874\n",
            "Adam Epoch 200, Loss: 0.07067745178937912\n",
            "Epoch 300, PDE Loss: 9.702764509711415e-05, BC Loss: 0.06432916224002838, IC Loss: 0.006201779469847679\n",
            "Adam Epoch 300, Loss: 0.07062797248363495\n",
            "Epoch 400, PDE Loss: 8.72825548867695e-05, BC Loss: 0.064326710999012, IC Loss: 0.006198246963322163\n",
            "Adam Epoch 400, Loss: 0.07061224430799484\n",
            "Starting LBFGS optimization...\n",
            "Epoch 0, PDE Loss: 8.057228842517361e-05, BC Loss: 0.06432553380727768, IC Loss: 0.0061961691826581955\n",
            "Epoch 100, PDE Loss: 5.835722549818456e-05, BC Loss: 0.06432231515645981, IC Loss: 0.006192848086357117\n"
          ]
        }
      ],
      "source": [
        "# Step 6: Initialize and train the PINN\n",
        "model = PINN()\n",
        "train_pinn(model, S_interior, t_interior,\n",
        "           S_boundary, t_boundary, V_boundary,\n",
        "           S_initial, t_initial, V_initial,\n",
        "           r, sigma,\n",
        "           adam_epochs=500, lbfgs_epochs=5000)"
      ]
    },
    {
      "cell_type": "code",
      "execution_count": 10,
      "metadata": {
        "id": "1IZHsz5WRxLP",
        "outputId": "ca0fd322-b311-43ef-bbf7-9784f48a1e3e",
        "colab": {
          "base_uri": "https://localhost:8080/"
        }
      },
      "outputs": [
        {
          "output_type": "execute_result",
          "data": {
            "text/plain": [
              "array([[0.01805313, 0.03762789, 0.05720373, ..., 0.00815209, 0.00881632,\n",
              "        0.00948079],\n",
              "       [0.01592453, 0.03152641, 0.05110105, ..., 0.03000124, 0.03066571,\n",
              "        0.03132983],\n",
              "       [0.01749082, 0.0315388 , 0.04558666, ..., 0.05185075, 0.05251487,\n",
              "        0.05230208],\n",
              "       ...,\n",
              "       [0.29368278, 0.24619754, 0.20164417, ..., 0.12516157, 0.13096072,\n",
              "        0.13284557],\n",
              "       [0.29487017, 0.247386  , 0.22548957, ..., 0.10190599, 0.1082202 ,\n",
              "        0.10759114],\n",
              "       [0.2982421 , 0.26068428, 0.24861981, ..., 0.07301287, 0.07738258,\n",
              "        0.08197917]], dtype=float32)"
            ]
          },
          "metadata": {},
          "execution_count": 10
        }
      ],
      "source": [
        "# Step 7: Visualize the results\n",
        "# Create a grid for prediction\n",
        "S_pred = torch.linspace(S_min, S_max, 100).view(-1, 1)\n",
        "t_pred = torch.linspace(0, T, 100).view(-1, 1)\n",
        "S_grid_pred, t_grid_pred = torch.meshgrid(S_pred.squeeze(), t_pred.squeeze(),\n",
        "                                          indexing='ij')\n",
        "S_flat = S_grid_pred.flatten().view(-1, 1)\n",
        "t_flat = t_grid_pred.flatten().view(-1, 1)\n",
        "\n",
        "# Predict using the trained model\n",
        "V_pred = model(torch.cat((S_flat, t_flat), dim=1)).detach().numpy()\n",
        "V_pred = V_pred.reshape(100, 100)\n",
        "V_pred"
      ]
    },
    {
      "cell_type": "code",
      "source": [
        "# black_scholes(S, t, T, K, r, sigma)\n",
        "V_exact = black_scholes(S_flat, t_flat, T, K, r, sigma)\n",
        "V_exact = V_exact.reshape(100, 100)\n",
        "V_exact"
      ],
      "metadata": {
        "id": "TjqR4bClYUtZ",
        "outputId": "12b7c202-b2ad-43f0-c7e7-bb5d2410f74d",
        "colab": {
          "base_uri": "https://localhost:8080/"
        }
      },
      "execution_count": 11,
      "outputs": [
        {
          "output_type": "stream",
          "name": "stderr",
          "text": [
            "<ipython-input-2-57165c588757>:28: UserWarning: To copy construct from a tensor, it is recommended to use sourceTensor.clone().detach() or sourceTensor.clone().detach().requires_grad_(True), rather than torch.tensor(sourceTensor).\n",
            "  tau = torch.tensor(tau, dtype=torch.float32)\n"
          ]
        },
        {
          "output_type": "execute_result",
          "data": {
            "text/plain": [
              "tensor([[  0.0000,   0.0000,   0.0000,  ...,   0.0000,   0.0000,   0.0000],\n",
              "        [  0.8810,   0.8807,   0.8804,  ...,   0.8492,   0.8488,   0.8485],\n",
              "        [  2.3962,   2.3958,   2.3955,  ...,   2.3643,   2.3640,   2.3636],\n",
              "        ...,\n",
              "        [146.3355, 146.3352, 146.3349,  ..., 146.3037, 146.3034, 146.3030],\n",
              "        [147.8507, 147.8504, 147.8501,  ..., 147.8188, 147.8185, 147.8182],\n",
              "        [149.3658, 149.3655, 149.3652,  ..., 149.3340, 149.3337, 149.3333]])"
            ]
          },
          "metadata": {},
          "execution_count": 11
        }
      ]
    },
    {
      "cell_type": "code",
      "execution_count": 12,
      "metadata": {
        "colab": {
          "base_uri": "https://localhost:8080/",
          "height": 507
        },
        "id": "KDpi-buwYePT",
        "outputId": "dd3636ac-58a8-4939-bd76-e4f333ffd713"
      },
      "outputs": [
        {
          "output_type": "display_data",
          "data": {
            "text/plain": [
              "<Figure size 1500x500 with 3 Axes>"
            ],
            "image/png": "[encoded data removed]"
          },
          "metadata": {}
        }
      ],
      "source": [
        "# Step 8: Compare predictions with exact solution at specific time slices\n",
        "time_slices = [25, 75, 99]  # Time slices to compare\n",
        "\n",
        "plt.figure(figsize=(15, 5))\n",
        "\n",
        "for i, t_slice in enumerate(time_slices):\n",
        "    # Extract points for the time slice\n",
        "    t_slice_tensor = torch.full_like(S_pred, t_slice)\n",
        "    V_pred_slice = V_pred[:, t_slice]\n",
        "\n",
        "    # Compute exact solution\n",
        "    V_exact_slice = V_exact[:,t_slice]\n",
        "\n",
        "    # Plot comparison\n",
        "    plt.subplot(1, 3, i + 1)\n",
        "    plt.plot(S.numpy(), V_exact_slice, 'b-', label='Exact', linewidth=2)\n",
        "    plt.plot(S.numpy(), V_pred_slice, 'r--', label='Prediction', linewidth=2)\n",
        "    plt.title(f\"$t = {t_slice}$\")\n",
        "    plt.xlabel(\"$x$\")\n",
        "    plt.ylabel(\"$V(t, x)$\")\n",
        "    plt.legend()\n",
        "    plt.grid()\n",
        "\n",
        "plt.tight_layout()\n",
        "plt.show()\n"
      ]
    },
    {
      "cell_type": "code",
      "source": [],
      "metadata": {
        "id": "fo3yzn5zKWwD"
      },
      "execution_count": null,
      "outputs": []
    }
  ],
  "metadata": {
    "colab": {
      "name": "Welcome To Colab",
      "provenance": [],
      "toc_visible": true,
      "include_colab_link": true
    },
    "kernelspec": {
      "display_name": "Python 3",
      "name": "python3"
    }
  },
  "nbformat": 4,
  "nbformat_minor": 0
}