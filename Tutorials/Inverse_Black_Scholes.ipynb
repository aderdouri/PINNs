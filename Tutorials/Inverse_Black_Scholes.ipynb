{
  "cells": [
    {
      "cell_type": "markdown",
      "metadata": {
        "id": "view-in-github",
        "colab_type": "text"
      },
      "source": [
        "<a href=\"https://colab.research.google.com/github/aderdouri/PINNs/blob/master/Tutorials/Inverse_Black_Scholes.ipynb\" target=\"_parent\"><img src=\"https://colab.research.google.com/assets/colab-badge.svg\" alt=\"Open In Colab\"/></a>"
      ]
    },
    {
      "cell_type": "markdown",
      "source": [
        "## Black-Scholes Partial Differential Equation (PDE)\n",
        "The value of an option $V(S, t)$ satisfies the Black-Scholes PDE:\n",
        "$$\n",
        "\\frac{\\partial V}{\\partial t} + \\frac{1}{2} \\sigma^2 S^2 \\frac{\\partial^2 V}{\\partial S^2} + r S \\frac{\\partial V}{\\partial S} - r V = 0\n",
        "$$\n",
        "\n",
        "### Initial and Boundary Conditions of the Black-Scholes PDE\n",
        "\n",
        "The initial and boundary conditions for the Black-Scholes PDE depend on the type of derivative being priced, such as European call or put options. These conditions are necessary for solving the PDE and obtaining specific option prices. We will consider a Call option.\n",
        "\n",
        "- $\\textbf{Initial Condition}$ (at $t = T$):\n",
        "    - $\\text{Call: } V(S, T) = \\max(S - K, 0)$ \\\\\n",
        "- $\\textbf{Boundary Conditions:}$\n",
        "  - $V(0, t) = 0$ \\\\\n",
        "  - $V(S, t) \\to S - K e^{-r(T-t)} \\quad \\text{as } S \\to \\infty$\n",
        "\n",
        "These conditions, combined with the Black-Scholes PDE, provide a complete specification for determining the price of the option.\n"
      ],
      "metadata": {
        "id": "zQ4HCtUSmuCQ"
      }
    },
    {
      "cell_type": "markdown",
      "metadata": {
        "id": "A_9U59_Yer5p"
      },
      "source": [
        "## Implementation"
      ]
    },
    {
      "cell_type": "code",
      "source": [
        "import torch\n",
        "import torch.nn.functional as F\n",
        "import numpy as np\n",
        "import torch.nn as nn\n",
        "import matplotlib.pyplot as plt"
      ],
      "metadata": {
        "id": "IAzwVqmj9cKx"
      },
      "execution_count": 170,
      "outputs": []
    },
    {
      "cell_type": "markdown",
      "source": [
        "## Analytic formula"
      ],
      "metadata": {
        "id": "3FsXuSNm9dWj"
      }
    },
    {
      "cell_type": "code",
      "source": [
        "def black_scholes(S, t, T=1.0, K=120, r=0.05, sigma=0.20, option_type=\"call\"):\n",
        "    \"\"\"\n",
        "    Compute the Black-Scholes option price.\n",
        "\n",
        "    Args:\n",
        "        S (torch.Tensor): Current stock price.\n",
        "        T (float): Time to maturity.\n",
        "        t (float): Current time (typically 0).\n",
        "        K (float): Strike price.\n",
        "        r (float): Risk-free interest rate.\n",
        "        sigma (float): Volatility of the stock price.\n",
        "        option_type (str): \"call\" or \"put\".\n",
        "\n",
        "    Returns:\n",
        "        torch.Tensor: Option price.\n",
        "    \"\"\"\n",
        "    # Ensure inputs are PyTorch tensors and have the correct dtype\n",
        "    S = torch.tensor(S, dtype=torch.float32) # Convert S0 to a PyTorch tensor\n",
        "\n",
        "    # Time to maturity\n",
        "    tau = T - t\n",
        "\n",
        "    # Avoid division by zero for tau = 0\n",
        "    epsilon = 1e-8\n",
        "\n",
        "    # Convert r and tau to tensors\n",
        "    r = torch.tensor(r, dtype=torch.float32)\n",
        "    tau = torch.tensor(tau, dtype=torch.float32)\n",
        "\n",
        "    # Compute d1 and d2\n",
        "    # Use tau and epsilon directly for torch.sqrt, no need to create new tensors\n",
        "    d1 = (torch.log(S / K) + (r + 0.5 * sigma**2) * tau) / (sigma * torch.sqrt(tau + epsilon))\n",
        "    d2 = d1 - sigma * torch.sqrt(tau + epsilon)\n",
        "\n",
        "    # Compute N(d1) and N(d2) using the cumulative distribution function\n",
        "    N_d1 = 0.5 * (1.0 + torch.erf(d1 / torch.sqrt(torch.tensor(2.0))))\n",
        "    N_d2 = 0.5 * (1.0 + torch.erf(d2 / torch.sqrt(torch.tensor(2.0))))\n",
        "\n",
        "    # Compute the call or put price\n",
        "    if option_type == \"call\":\n",
        "        option_price = S * N_d1 - K * torch.exp(-r * tau) * N_d2\n",
        "    elif option_type == \"put\":\n",
        "        option_price = K * torch.exp(-r * tau) * (1.0 - N_d2) - S * (1.0 - N_d1)\n",
        "    else:\n",
        "        raise ValueError(\"Invalid option_type. Must be 'call' or 'put'.\")\n",
        "\n",
        "    return option_price"
      ],
      "metadata": {
        "id": "YCgXDrWjNGEU"
      },
      "execution_count": 171,
      "outputs": []
    },
    {
      "cell_type": "code",
      "execution_count": 172,
      "metadata": {
        "id": "9mH21Ymv542P"
      },
      "outputs": [],
      "source": [
        "def bs_pde_residual(model, S, t, r=0.05, sigma=0.20):\n",
        "    \"\"\"\n",
        "    Compute the PDE residual for Black-Scholes equation:\n",
        "    \"\"\"\n",
        "    S.requires_grad = True\n",
        "    t.requires_grad = True\n",
        "    V = model(torch.cat((S, t), dim=1))\n",
        "\n",
        "    # Gradients w.r.t. x and t\n",
        "    V_S = torch.autograd.grad(V, S, grad_outputs=torch.ones_like(V), create_graph=True)[0]\n",
        "    V_t = torch.autograd.grad(V, t, grad_outputs=torch.ones_like(V), create_graph=True)[0]\n",
        "\n",
        "    # Second-order derivative w.r.t. S\n",
        "    V_SS = torch.autograd.grad(V_S, S, grad_outputs=torch.ones_like(V_S), create_graph=True)[0]\n",
        "\n",
        "    # PDE residual\n",
        "    residual = V_t + 0.5*sigma**2*S**2*V_SS + r*S*V_S -r*V\n",
        "    return residual\n",
        "\n",
        "# Step 2: Define the PINN model\n",
        "class PINN(nn.Module):\n",
        "    \"\"\"Physics-Informed Neural Network for heat equation.\"\"\"\n",
        "    def __init__(self):\n",
        "        super(PINN, self).__init__()\n",
        "        self.hidden_layers = nn.Sequential(\n",
        "            nn.Linear(2, 50),  # Inputs: (s, t)\n",
        "            nn.Tanh(),\n",
        "            nn.Linear(50, 50),\n",
        "            nn.Tanh(),\n",
        "            nn.Linear(50, 50),\n",
        "            nn.Tanh(),\n",
        "            nn.Linear(50, 1)  # Output: V(s, t)\n",
        "        )\n",
        "\n",
        "    def forward(self, s):\n",
        "        return self.hidden_layers(s)\n",
        "\n",
        "# Step 3: Define the loss function\n",
        "def compute_loss(model, s_interior, t_interior, s_boundary, t_boundary,\n",
        "                 s_initial, t_initial, V_initial,\n",
        "                 r, sigma):\n",
        "    \"\"\"Compute the combined loss for the PDE residual, boundary, and initial conditions.\"\"\"\n",
        "    # PDE residual loss\n",
        "    residual = bs_pde_residual(model, s_interior, t_interior, r, sigma)\n",
        "    pde_loss = torch.mean(residual**2)\n",
        "\n",
        "    # Boundary condition loss:\n",
        "    # V(0, t)=0\n",
        "    # V(S, t)→S-K*exp(−r(T−t))as 𝑆→∞\n",
        "    V_boundary_left = model(torch.cat((s_boundary[0], t_boundary), dim=1))\n",
        "    V_boundary_right = model(torch.cat((s_boundary[1], t_boundary), dim=1))\n",
        "    bc_loss = torch.mean(V_boundary_left**2) + torch.mean(V_boundary_right**2)\n",
        "\n",
        "    # Initial condition loss:\n",
        "    # (at 𝑡=𝑇): 𝑉(𝑆,𝑇)=max(𝑆−𝐾,0)\n",
        "    V_initial_pred = model(torch.cat((s_initial, t_initial), dim=1))\n",
        "    ic_loss = torch.mean((V_initial_pred - V_initial)**2)\n",
        "\n",
        "    return pde_loss + bc_loss + ic_loss\n",
        "\n",
        "\n",
        "# Step 4: Training the model\n",
        "def train_pinn(model, s_interior, t_interior, s_boundary, t_boundary,\n",
        "               s_initial, t_initial, V_initial,\n",
        "               r, sigma, adam_epochs=1000, lbfgs_epochs=500):\n",
        "    \"\"\"Train the PINN model using Adam and LBFGS optimizers.\"\"\"\n",
        "    # Adam optimizer for initial training\n",
        "    optimizer_adam = torch.optim.Adam(model.parameters(), lr=0.0001)\n",
        "    for epoch in range(adam_epochs):\n",
        "        optimizer_adam.zero_grad()\n",
        "        loss = compute_loss(model, s_interior, t_interior, s_boundary,\n",
        "                            t_boundary, s_initial, t_initial, V_initial,\n",
        "                            r, sigma)\n",
        "        loss.backward()\n",
        "        optimizer_adam.step()\n",
        "        if epoch % 100 == 0:\n",
        "            print(f\"Adam Epoch {epoch}, Loss: {loss.item()}\")\n",
        "\n",
        "    # LBFGS optimizer for fine-tuning\n",
        "    optimizer_lbfgs = torch.optim.LBFGS(model.parameters(), max_iter=lbfgs_epochs,\n",
        "                                        tolerance_grad=1e-7, tolerance_change=1e-9)\n",
        "\n",
        "    def closure():\n",
        "        optimizer_lbfgs.zero_grad()\n",
        "        loss = compute_loss(model, s_interior, t_interior, s_boundary, t_boundary,\n",
        "                            s_initial, t_initial, V_initial, r, sigma)\n",
        "        loss.backward()\n",
        "        return loss\n",
        "\n",
        "    print(\"Starting LBFGS optimization...\")\n",
        "    optimizer_lbfgs.step(closure)"
      ]
    },
    {
      "cell_type": "code",
      "execution_count": 173,
      "metadata": {
        "id": "LwX0xINUSFPP"
      },
      "outputs": [],
      "source": [
        "S_max = 150.0\n",
        "S_min = 50.0\n",
        "strike = 100.0\n",
        "T = 1.0\n",
        "r = 0.05\n",
        "sigma = 0.2\n",
        "\n",
        "S = torch.linspace(S_min, S_max, 100).view(-1, 1)\n",
        "t = torch.linspace(0, T, 100).view(-1, 1)\n",
        "\n",
        "# Create mesh grid for interior points\n",
        "S_grid, t_grid = torch.meshgrid(S.squeeze(), t.squeeze(), indexing='ij')\n",
        "S_interior = S_grid.flatten().view(-1, 1)\n",
        "t_interior = t_grid.flatten().view(-1, 1)\n",
        "\n",
        "# Boundary points\n",
        "# V(0, t)=0\n",
        "# V(S, t)→S-K*exp(−r(T−t))as 𝑆→∞\n",
        "S_goes_infinity = 1.0 -strike*torch.exp(-torch.tensor(r)*torch.tensor(T))\n",
        "S_boundary = [torch.full_like(t, 0), torch.full_like(t, S_goes_infinity)]\n",
        "t_boundary = t\n",
        "\n",
        "# Initial points\n",
        "# (at 𝑡=𝑇): 𝑉(𝑆, 𝑇)=max(𝑆−𝐾, 0)\n",
        "S_initial = S\n",
        "t_initial = torch.full_like(t, T)\n",
        "V_initial = torch.max(S - strike, torch.tensor(0.0))"
      ]
    },
    {
      "cell_type": "code",
      "execution_count": 174,
      "metadata": {
        "colab": {
          "base_uri": "https://localhost:8080/"
        },
        "id": "UZG088B9RtNz",
        "outputId": "6dfd2e5e-0f1e-4fb3-92fe-5f2c5c16c6b7"
      },
      "outputs": [
        {
          "output_type": "stream",
          "name": "stdout",
          "text": [
            "Adam Epoch 0, Loss: 420.87115478515625\n",
            "Adam Epoch 100, Loss: 385.4375305175781\n",
            "Adam Epoch 200, Loss: 362.4284973144531\n",
            "Adam Epoch 300, Loss: 351.0783386230469\n",
            "Adam Epoch 400, Loss: 344.60650634765625\n",
            "Starting LBFGS optimization...\n"
          ]
        }
      ],
      "source": [
        "# Step 6: Initialize and train the PINN\n",
        "model = PINN()\n",
        "train_pinn(model, S_interior, t_interior, S_boundary, t_boundary, S_initial,\n",
        "           t_initial, V_initial,\n",
        "           r, sigma,\n",
        "           adam_epochs=500, lbfgs_epochs=5000)"
      ]
    },
    {
      "cell_type": "code",
      "execution_count": 57,
      "metadata": {
        "id": "1IZHsz5WRxLP"
      },
      "outputs": [],
      "source": [
        "# Create a grid for prediction\n",
        "S_pred = torch.linspace(S_min, S_max, 100).view(-1, 1)\n",
        "t_pred = torch.linspace(0, T, 100).view(-1, 1)\n",
        "\n",
        "S_grid_pred, t_grid_pred = torch.meshgrid(S_pred.squeeze(), t_pred.squeeze(),\n",
        "                                          indexing='ij')\n",
        "S_flat = S_grid_pred.flatten().view(-1, 1)\n",
        "t_flat = t_grid_pred.flatten().view(-1, 1)\n",
        "\n",
        "# Predict using the trained model\n",
        "V_pred = model(torch.cat((S_flat, t_flat), dim=1)).detach().numpy()\n",
        "V_pred = V_pred.reshape(100, 100)"
      ]
    },
    {
      "cell_type": "code",
      "source": [
        "V_pred"
      ],
      "metadata": {
        "id": "Wq_aol-N75yF",
        "outputId": "9690771d-231c-496a-9e41-2d7ea60e1a5f",
        "colab": {
          "base_uri": "https://localhost:8080/"
        }
      },
      "execution_count": 58,
      "outputs": [
        {
          "output_type": "execute_result",
          "data": {
            "text/plain": [
              "array([[12.594782, 12.594782, 12.594782, ..., 12.594782, 12.594782,\n",
              "        12.594782],\n",
              "       [12.594782, 12.594782, 12.594782, ..., 12.594782, 12.594782,\n",
              "        12.594782],\n",
              "       [12.594782, 12.594782, 12.594782, ..., 12.594782, 12.594782,\n",
              "        12.594782],\n",
              "       ...,\n",
              "       [12.59478 , 12.59478 , 12.59478 , ..., 12.59478 , 12.59478 ,\n",
              "        12.59478 ],\n",
              "       [12.59478 , 12.59478 , 12.59478 , ..., 12.59478 , 12.59478 ,\n",
              "        12.59478 ],\n",
              "       [12.59478 , 12.59478 , 12.59478 , ..., 12.59478 , 12.59478 ,\n",
              "        12.59478 ]], dtype=float32)"
            ]
          },
          "metadata": {},
          "execution_count": 58
        }
      ]
    },
    {
      "cell_type": "code",
      "source": [
        "# black_scholes(S, t, T, K, r, sigma)\n",
        "V_exact = black_scholes(S_flat, t_flat, T, strike, r, sigma)\n",
        "V_exact = V_exact.reshape(100, 100)\n",
        "V_exact"
      ],
      "metadata": {
        "id": "TjqR4bClYUtZ",
        "outputId": "4e24203e-a9bb-4d2e-8289-dc4238199174",
        "colab": {
          "base_uri": "https://localhost:8080/"
        }
      },
      "execution_count": 60,
      "outputs": [
        {
          "output_type": "stream",
          "name": "stderr",
          "text": [
            "<ipython-input-53-57165c588757>:28: UserWarning: To copy construct from a tensor, it is recommended to use sourceTensor.clone().detach() or sourceTensor.clone().detach().requires_grad_(True), rather than torch.tensor(sourceTensor).\n",
            "  tau = torch.tensor(tau, dtype=torch.float32)\n"
          ]
        },
        {
          "output_type": "execute_result",
          "data": {
            "text/plain": [
              "tensor([[2.3988e-03, 2.2240e-03, 2.0613e-03,  ..., 0.0000e+00, 0.0000e+00,\n",
              "         0.0000e+00],\n",
              "        [3.5019e-03, 3.2586e-03, 3.0289e-03,  ..., 0.0000e+00, 0.0000e+00,\n",
              "         0.0000e+00],\n",
              "        [5.0266e-03, 4.6938e-03, 4.3780e-03,  ..., 0.0000e+00, 0.0000e+00,\n",
              "         0.0000e+00],\n",
              "        ...,\n",
              "        [5.2969e+01, 5.2918e+01, 5.2867e+01,  ..., 4.8081e+01, 4.8030e+01,\n",
              "         4.7980e+01],\n",
              "        [5.3969e+01, 5.3918e+01, 5.3867e+01,  ..., 4.9091e+01, 4.9040e+01,\n",
              "         4.8990e+01],\n",
              "        [5.4970e+01, 5.4919e+01, 5.4868e+01,  ..., 5.0101e+01, 5.0050e+01,\n",
              "         5.0000e+01]])"
            ]
          },
          "metadata": {},
          "execution_count": 60
        }
      ]
    },
    {
      "cell_type": "code",
      "execution_count": 51,
      "metadata": {
        "colab": {
          "base_uri": "https://localhost:8080/",
          "height": 507
        },
        "id": "KDpi-buwYePT",
        "outputId": "7ac8ae73-43ec-445f-e1e7-0b6f75496171"
      },
      "outputs": [
        {
          "output_type": "display_data",
          "data": {
            "text/plain": [
              "<Figure size 1500x500 with 3 Axes>"
            ],
            "image/png": "[encoded data removed]"
          },
          "metadata": {}
        }
      ],
      "source": [
        "# Step 8: Compare predictions with exact solution at specific time slices\n",
        "time_slices = [25, 75, 99]  # Time slices to compare\n",
        "\n",
        "# Denormalize S_pred for plotting\n",
        "d_S_pred = S_pred * (S_max - S_min) + S_min\n",
        "\n",
        "plt.figure(figsize=(15, 5))\n",
        "\n",
        "for i, t_slice in enumerate(time_slices):\n",
        "    # Extract points for the time slice\n",
        "    t_slice_tensor = torch.full_like(S_pred, t_slice)\n",
        "    V_pred_slice = V_pred[:, t_slice]\n",
        "\n",
        "    # Compute exact solution\n",
        "    V_exact_slice = V_exact[:,t_slice]\n",
        "\n",
        "    # Plot comparison\n",
        "    plt.subplot(1, 3, i + 1)\n",
        "    plt.plot(d_S_pred.numpy(), V_exact_slice, 'b-', label='Exact', linewidth=2)\n",
        "    plt.plot(d_S_pred.numpy(), V_pred_slice, 'r--', label='Prediction', linewidth=2)\n",
        "    plt.title(f\"$t = {t_slice}$\")\n",
        "    plt.xlabel(\"$x$\")\n",
        "    plt.ylabel(\"$V(t, x)$\")\n",
        "    plt.legend()\n",
        "    plt.grid()\n",
        "\n",
        "plt.tight_layout()\n",
        "plt.show()"
      ]
    },
    {
      "cell_type": "code",
      "source": [],
      "metadata": {
        "id": "fw-AfolCQv86"
      },
      "execution_count": null,
      "outputs": []
    },
    {
      "cell_type": "code",
      "source": [
        "import torch\n",
        "import torch.nn as nn\n",
        "import torch.optim as optim\n",
        "import matplotlib.pyplot as plt\n",
        "from scipy.stats import norm # Import the norm object from scipy.stats\n",
        "\n",
        "# Define the neural network\n",
        "class PINN(nn.Module):\n",
        "    def __init__(self):\n",
        "        super(PINN, self).__init__()\n",
        "        self.fc1 = nn.Linear(3, 50)  # Input now includes S, t, and K\n",
        "        self.fc2 = nn.Linear(50, 50)\n",
        "        self.fc3 = nn.Linear(50, 50)\n",
        "        self.fc4 = nn.Linear(50, 1)\n",
        "        self.activation = nn.Tanh()\n",
        "\n",
        "    def forward(self, x):\n",
        "        x = self.activation(self.fc1(x))\n",
        "        x = self.activation(self.fc2(x))\n",
        "        x = self.activation(self.fc3(x))\n",
        "        x = self.fc4(x)\n",
        "        return x\n",
        "\n",
        "# Define the PDE residual\n",
        "def pde_residual(model, S, t, K, sigma, r):\n",
        "    V = model(torch.cat([S, t, K], dim=1))\n",
        "    V_t = torch.autograd.grad(V, t, grad_outputs=torch.ones_like(V), create_graph=True)[0]\n",
        "    V_S = torch.autograd.grad(V, S, grad_outputs=torch.ones_like(V), create_graph=True)[0]\n",
        "    V_SS = torch.autograd.grad(V_S, S, grad_outputs=torch.ones_like(V_S), create_graph=True)[0]\n",
        "    residual = V_t + 0.5 * sigma**2 * S**2 * V_SS + r * S * V_S - r * V\n",
        "    return residual\n",
        "\n",
        "# Define the loss function\n",
        "def loss_function(model, S, t, K, sigma, r, option_prices, S_boundary, t_boundary, K_boundary, T):\n",
        "    residual = pde_residual(model, S, t, K, sigma, r)\n",
        "    boundary_loss = torch.mean((model(torch.cat([S, t, K], dim=1)) - option_prices)**2)\n",
        "    pde_loss = torch.mean(residual**2)\n",
        "\n",
        "    # Initial condition loss\n",
        "    V_T = model(torch.cat([S, torch.ones_like(t) * T, K], dim=1))\n",
        "    initial_condition_loss = torch.mean((V_T - torch.max(S - K, torch.zeros_like(S)))**2)\n",
        "\n",
        "    # Boundary condition loss\n",
        "    V_0 = model(torch.cat([torch.zeros_like(S_boundary), t_boundary[0].expand_as(S_boundary), K_boundary], dim=1))\n",
        "    boundary_condition_loss_1 = torch.mean(V_0**2)\n",
        "\n",
        "    V_inf = model(torch.cat([S_boundary, t_boundary[1].expand_as(S_boundary), K_boundary], dim=1))\n",
        "    boundary_condition_loss_2 = torch.mean((V_inf - (S_boundary - K_boundary * torch.exp(-r * (T - t[0]))))**2)\n",
        "\n",
        "    return boundary_loss + pde_loss + initial_condition_loss + boundary_condition_loss_1 + boundary_condition_loss_2\n",
        "\n",
        "# Training the model\n",
        "def train(model, S, t, K, sigma, r, option_prices, S_boundary, t_boundary, K_boundary, T, epochs=1000, lr=0.001):\n",
        "    optimizer = optim.Adam(model.parameters(), lr=lr)\n",
        "    for epoch in range(epochs):\n",
        "        optimizer.zero_grad()\n",
        "        loss = loss_function(model, S, t, K, sigma, r, option_prices, S_boundary, t_boundary, K_boundary, T)\n",
        "        loss.backward()\n",
        "        optimizer.step()\n",
        "        if epoch % 100 == 0:\n",
        "            print(f'Epoch {epoch}, Loss: {loss.item()}')\n",
        "\n",
        "# Prediction function\n",
        "def predict(model, S, t, K):\n",
        "    model.eval()\n",
        "    with torch.no_grad():\n",
        "        prediction = model(torch.cat([S, t, K], dim=1))\n",
        "    return prediction\n",
        "\n",
        "# Analytic solution for European call option\n",
        "def analytic_solution(S, K, T, t, sigma, r):\n",
        "    d1 = (torch.log(S / K) + (r + 0.5 * sigma**2) * (T - t)) / (sigma * torch.sqrt(T - t))\n",
        "    d2 = d1 - sigma * torch.sqrt(T - t)\n",
        "    # Detach d1 and d2 before calling norm.cdf and converting to tensors\n",
        "    return S * torch.tensor(norm.cdf(d1.detach().numpy())) - K * torch.exp(-r * (T - t)) * torch.tensor(norm.cdf(d2.detach().numpy()))\n",
        "\n",
        "# Plot predictions against analytic solution\n",
        "def plot_predictions(S, t, K, predictions, T, sigma, r):\n",
        "    analytic_prices = analytic_solution(S, K, T, t, sigma, r)\n",
        "    plt.plot(S.detach().numpy(), predictions.detach().numpy(), 'b', label='Predicted')\n",
        "    plt.plot(S.detach().numpy(), analytic_prices.detach().numpy(), 'r--', label='Analytic')\n",
        "    plt.xlabel('Stock Price (S)')\n",
        "    plt.ylabel('Option Price')\n",
        "    plt.legend()\n",
        "    plt.show()\n",
        "\n",
        "# Example usage\n",
        "if __name__ == \"__main__\":\n",
        "    # Example data (replace with actual data)\n",
        "    S = torch.tensor([[50.0], [60.0], [70.0]], requires_grad=True)\n",
        "    t = torch.tensor([[0.1], [0.2], [0.3]], requires_grad=True)\n",
        "    K = torch.tensor([[50.0], [60.0], [70.0]])  # K is not trainable\n",
        "    option_prices = torch.tensor([[5.0], [6.0], [7.0]])\n",
        "    sigma = 0.2\n",
        "    r = 0.05\n",
        "    T = 1.0  # Maturity\n",
        "\n",
        "    # Boundary conditions data\n",
        "    S_boundary = torch.tensor([[0.0], [100.0]], requires_grad=True)\n",
        "    t_boundary = torch.tensor([[0.0], [1.0]], requires_grad=True)\n",
        "    K_boundary = torch.tensor([[50.0], [60.0]])\n",
        "\n",
        "    model = PINN()\n",
        "    train(model, S, t, K, sigma, r, option_prices, S_boundary, t_boundary, K_boundary, T)"
      ],
      "metadata": {
        "id": "KtEjmucdS3x7"
      },
      "execution_count": null,
      "outputs": []
    },
    {
      "cell_type": "code",
      "source": [
        "!pip install deepxde"
      ],
      "metadata": {
        "id": "QzorTH7grTbT",
        "outputId": "08c0030e-5ec0-42d0-ccc1-86ccf8844953",
        "colab": {
          "base_uri": "https://localhost:8080/"
        }
      },
      "execution_count": 100,
      "outputs": [
        {
          "output_type": "stream",
          "name": "stdout",
          "text": [
            "Collecting deepxde\n",
            "  Downloading DeepXDE-1.13.0-py3-none-any.whl.metadata (12 kB)\n",
            "Requirement already satisfied: matplotlib in /usr/local/lib/python3.10/dist-packages (from deepxde) (3.8.0)\n",
            "Requirement already satisfied: numpy in /usr/local/lib/python3.10/dist-packages (from deepxde) (1.26.4)\n",
            "Requirement already satisfied: scikit-learn in /usr/local/lib/python3.10/dist-packages (from deepxde) (1.6.0)\n",
            "Collecting scikit-optimize>=0.9.0 (from deepxde)\n",
            "  Downloading scikit_optimize-0.10.2-py2.py3-none-any.whl.metadata (9.7 kB)\n",
            "Requirement already satisfied: scipy in /usr/local/lib/python3.10/dist-packages (from deepxde) (1.13.1)\n",
            "Requirement already satisfied: joblib>=0.11 in /usr/local/lib/python3.10/dist-packages (from scikit-optimize>=0.9.0->deepxde) (1.4.2)\n",
            "Collecting pyaml>=16.9 (from scikit-optimize>=0.9.0->deepxde)\n",
            "  Downloading pyaml-25.1.0-py3-none-any.whl.metadata (12 kB)\n",
            "Requirement already satisfied: packaging>=21.3 in /usr/local/lib/python3.10/dist-packages (from scikit-optimize>=0.9.0->deepxde) (24.2)\n",
            "Requirement already satisfied: threadpoolctl>=3.1.0 in /usr/local/lib/python3.10/dist-packages (from scikit-learn->deepxde) (3.5.0)\n",
            "Requirement already satisfied: contourpy>=1.0.1 in /usr/local/lib/python3.10/dist-packages (from matplotlib->deepxde) (1.3.1)\n",
            "Requirement already satisfied: cycler>=0.10 in /usr/local/lib/python3.10/dist-packages (from matplotlib->deepxde) (0.12.1)\n",
            "Requirement already satisfied: fonttools>=4.22.0 in /usr/local/lib/python3.10/dist-packages (from matplotlib->deepxde) (4.55.3)\n",
            "Requirement already satisfied: kiwisolver>=1.0.1 in /usr/local/lib/python3.10/dist-packages (from matplotlib->deepxde) (1.4.7)\n",
            "Requirement already satisfied: pillow>=6.2.0 in /usr/local/lib/python3.10/dist-packages (from matplotlib->deepxde) (11.0.0)\n",
            "Requirement already satisfied: pyparsing>=2.3.1 in /usr/local/lib/python3.10/dist-packages (from matplotlib->deepxde) (3.2.0)\n",
            "Requirement already satisfied: python-dateutil>=2.7 in /usr/local/lib/python3.10/dist-packages (from matplotlib->deepxde) (2.8.2)\n",
            "Requirement already satisfied: PyYAML in /usr/local/lib/python3.10/dist-packages (from pyaml>=16.9->scikit-optimize>=0.9.0->deepxde) (6.0.2)\n",
            "Requirement already satisfied: six>=1.5 in /usr/local/lib/python3.10/dist-packages (from python-dateutil>=2.7->matplotlib->deepxde) (1.17.0)\n",
            "Downloading DeepXDE-1.13.0-py3-none-any.whl (190 kB)\n",
            "\u001b[2K   \u001b[90m━━━━━━━━━━━━━━━━━━━━━━━━━━━━━━━━━━━━━━━━\u001b[0m \u001b[32m190.6/190.6 kB\u001b[0m \u001b[31m4.8 MB/s\u001b[0m eta \u001b[36m0:00:00\u001b[0m\n",
            "\u001b[?25hDownloading scikit_optimize-0.10.2-py2.py3-none-any.whl (107 kB)\n",
            "\u001b[2K   \u001b[90m━━━━━━━━━━━━━━━━━━━━━━━━━━━━━━━━━━━━━━━━\u001b[0m \u001b[32m107.8/107.8 kB\u001b[0m \u001b[31m7.9 MB/s\u001b[0m eta \u001b[36m0:00:00\u001b[0m\n",
            "\u001b[?25hDownloading pyaml-25.1.0-py3-none-any.whl (26 kB)\n",
            "Installing collected packages: pyaml, scikit-optimize, deepxde\n",
            "Successfully installed deepxde-1.13.0 pyaml-25.1.0 scikit-optimize-0.10.2\n"
          ]
        }
      ]
    },
    {
      "cell_type": "code",
      "source": [],
      "metadata": {
        "id": "Hco6uY-LAZqv"
      },
      "execution_count": null,
      "outputs": []
    }
  ],
  "metadata": {
    "colab": {
      "name": "Welcome To Colab",
      "provenance": [],
      "toc_visible": true,
      "include_colab_link": true
    },
    "kernelspec": {
      "display_name": "Python 3",
      "name": "python3"
    }
  },
  "nbformat": 4,
  "nbformat_minor": 0
}