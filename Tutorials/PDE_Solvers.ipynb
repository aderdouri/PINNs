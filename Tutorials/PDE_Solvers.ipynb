{
  "cells": [
    {
      "cell_type": "markdown",
      "metadata": {
        "id": "view-in-github",
        "colab_type": "text"
      },
      "source": [
        "<a href=\"https://colab.research.google.com/github/aderdouri/PINNs/blob/master/Tutorials/PDE_Solvers.ipynb\" target=\"_parent\"><img src=\"https://colab.research.google.com/assets/colab-badge.svg\" alt=\"Open In Colab\"/></a>"
      ]
    },
    {
      "cell_type": "markdown",
      "source": [
        "## Black-Scholes Partial Differential Equation (PDE)\n",
        "The value of an option $V(S, t)$ satisfies the Black-Scholes PDE:\n",
        "$$\n",
        "\\frac{\\partial V}{\\partial t} + \\frac{1}{2} \\sigma^2 S^2 \\frac{\\partial^2 V}{\\partial S^2} + r S \\frac{\\partial V}{\\partial S} - r V = 0\n",
        "$$\n",
        "\n",
        "### Initial and Boundary Conditions of the Black-Scholes PDE\n",
        "\n",
        "The initial and boundary conditions for the Black-Scholes PDE depend on the type of derivative being priced, such as European call or put options. These conditions are necessary for solving the PDE and obtaining specific option prices. We will consider a Call option.\n",
        "\n",
        "- $\\textbf{Initial Condition}$ (at $t = T$):\n",
        "    - $\\text{Call: } V(S, T) = \\max(S - K, 0)$ \\\\\n",
        "- $\\textbf{Boundary Conditions:}$\n",
        "  - $V(0, t) = 0$ \\\\\n",
        "  - $V(S, t) \\to S - K e^{-r(T-t)} \\quad \\text{as } S \\to \\infty$\n",
        "\n",
        "These conditions, combined with the Black-Scholes PDE, provide a complete specification for determining the price of the option.\n"
      ],
      "metadata": {
        "id": "zQ4HCtUSmuCQ"
      }
    },
    {
      "cell_type": "markdown",
      "metadata": {
        "id": "A_9U59_Yer5p"
      },
      "source": [
        "## Implementation"
      ]
    },
    {
      "cell_type": "code",
      "source": [
        "import os\n",
        "os.environ['PROTOCOL_BUFFERS_PYTHON_IMPLEMENTATION'] = 'python'"
      ],
      "metadata": {
        "id": "3UG8GJ3IAs7u"
      },
      "execution_count": 1,
      "outputs": []
    },
    {
      "cell_type": "code",
      "source": [
        "!pip install tf-quant-finance"
      ],
      "metadata": {
        "id": "FrpDSOFQANrK",
        "outputId": "edf44ec0-b917-421a-83de-fa1a3e8f7c06",
        "colab": {
          "base_uri": "https://localhost:8080/"
        }
      },
      "execution_count": 2,
      "outputs": [
        {
          "output_type": "stream",
          "name": "stdout",
          "text": [
            "Collecting tf-quant-finance\n",
            "  Downloading tf_quant_finance-0.0.1.dev34-py2.py3-none-any.whl.metadata (10 kB)\n",
            "Requirement already satisfied: attrs>=18.2.0 in /usr/local/lib/python3.10/dist-packages (from tf-quant-finance) (24.3.0)\n",
            "Requirement already satisfied: tensorflow-probability>=0.12.1 in /usr/local/lib/python3.10/dist-packages (from tf-quant-finance) (0.24.0)\n",
            "Requirement already satisfied: numpy>=1.21 in /usr/local/lib/python3.10/dist-packages (from tf-quant-finance) (1.26.4)\n",
            "Requirement already satisfied: protobuf in /usr/local/lib/python3.10/dist-packages (from tf-quant-finance) (4.25.5)\n",
            "Requirement already satisfied: absl-py in /usr/local/lib/python3.10/dist-packages (from tensorflow-probability>=0.12.1->tf-quant-finance) (1.4.0)\n",
            "Requirement already satisfied: six>=1.10.0 in /usr/local/lib/python3.10/dist-packages (from tensorflow-probability>=0.12.1->tf-quant-finance) (1.17.0)\n",
            "Requirement already satisfied: decorator in /usr/local/lib/python3.10/dist-packages (from tensorflow-probability>=0.12.1->tf-quant-finance) (4.4.2)\n",
            "Requirement already satisfied: cloudpickle>=1.3 in /usr/local/lib/python3.10/dist-packages (from tensorflow-probability>=0.12.1->tf-quant-finance) (3.1.0)\n",
            "Requirement already satisfied: gast>=0.3.2 in /usr/local/lib/python3.10/dist-packages (from tensorflow-probability>=0.12.1->tf-quant-finance) (0.6.0)\n",
            "Requirement already satisfied: dm-tree in /usr/local/lib/python3.10/dist-packages (from tensorflow-probability>=0.12.1->tf-quant-finance) (0.1.8)\n",
            "Downloading tf_quant_finance-0.0.1.dev34-py2.py3-none-any.whl (1.4 MB)\n",
            "\u001b[2K   \u001b[90m━━━━━━━━━━━━━━━━━━━━━━━━━━━━━━━━━━━━━━━━\u001b[0m \u001b[32m1.4/1.4 MB\u001b[0m \u001b[31m16.6 MB/s\u001b[0m eta \u001b[36m0:00:00\u001b[0m\n",
            "\u001b[?25hInstalling collected packages: tf-quant-finance\n",
            "Successfully installed tf-quant-finance-0.0.1.dev34\n"
          ]
        }
      ]
    },
    {
      "cell_type": "code",
      "source": [
        "import tensorflow.compat.v2 as tf\n",
        "import tf_quant_finance as tff\n",
        "import numpy as np\n",
        "import matplotlib.pyplot as plt\n",
        "\n",
        "pde = tff.math.pde\n",
        "\n",
        "grid = pde.grids.uniform_grid(minimums=[-1],\n",
        "                              maximums=[1],\n",
        "                              sizes=[300],\n",
        "                              dtype=tf.float32)"
      ],
      "metadata": {
        "id": "IAzwVqmj9cKx"
      },
      "execution_count": 3,
      "outputs": []
    },
    {
      "cell_type": "code",
      "source": [
        "grid_np = np.linspace(-1, 1, 300) # Create a NumPy array with 300 points between -1 and 1\n",
        "grid = [tf.constant(grid_np, dtype=tf.float32)] # Convert the NumPy array to a TensorFlow constant"
      ],
      "metadata": {
        "id": "yLi7gF0sAFz8"
      },
      "execution_count": 4,
      "outputs": []
    },
    {
      "cell_type": "code",
      "source": [
        "d = 1\n",
        "mu = 2\n",
        "r = 3\n",
        "\n",
        "def second_order_coeff_fn(t, grid):\n",
        "  return [[-d]]\n",
        "\n",
        "def first_order_coeff_fn(t, grid):\n",
        "  return [mu]\n",
        "\n",
        "def zeroth_order_coeff_fn(t, grid):\n",
        "  return -r"
      ],
      "metadata": {
        "id": "ctfdg9H2BDoZ"
      },
      "execution_count": 5,
      "outputs": []
    },
    {
      "cell_type": "code",
      "source": [
        "variance = 0.2\n",
        "xs = grid[0]\n",
        "initial_value_grid = (tf.math.exp(-xs**2 / (2 * variance)) / tf.math.sqrt(2 * np.pi * variance))"
      ],
      "metadata": {
        "id": "-bhxUI63BdPa"
      },
      "execution_count": 6,
      "outputs": []
    },
    {
      "cell_type": "code",
      "source": [
        "t_0 = 0\n",
        "t_1 = 1\n",
        "num_time_steps = 100"
      ],
      "metadata": {
        "id": "n9WBqI-BBgoV"
      },
      "execution_count": 7,
      "outputs": []
    },
    {
      "cell_type": "code",
      "source": [
        "result_value_grid, final_grid, end_time, steps_performed = (\n",
        "    pde.fd_solvers.solve_forward(\n",
        "        start_time=t_0,\n",
        "        end_time=t_1,\n",
        "        num_steps=num_time_steps,\n",
        "        coord_grid=grid,\n",
        "        values_grid=initial_value_grid,\n",
        "        second_order_coeff_fn=second_order_coeff_fn,\n",
        "        first_order_coeff_fn=first_order_coeff_fn,\n",
        "        zeroth_order_coeff_fn=zeroth_order_coeff_fn))"
      ],
      "metadata": {
        "id": "akm9SRqQBoeW"
      },
      "execution_count": 8,
      "outputs": []
    },
    {
      "cell_type": "code",
      "source": [
        "import matplotlib.pyplot as plt\n",
        "\n",
        "xs = final_grid[0].numpy()\n",
        "vs = result_value_grid.numpy()\n",
        "plt.plot(xs, vs)"
      ],
      "metadata": {
        "id": "lGaD0gFmBrCL",
        "outputId": "398fe20d-e3b9-48a5-d71f-0a44aca9c68b",
        "colab": {
          "base_uri": "https://localhost:8080/",
          "height": 448
        }
      },
      "execution_count": 9,
      "outputs": [
        {
          "output_type": "execute_result",
          "data": {
            "text/plain": [
              "[<matplotlib.lines.Line2D at 0x7d3d000bb1f0>]"
            ]
          },
          "metadata": {},
          "execution_count": 9
        },
        {
          "output_type": "display_data",
          "data": {
            "text/plain": [
              "<Figure size 640x480 with 1 Axes>"
            ],
            "image/png": "[encoded data removed]"
          },
          "metadata": {}
        }
      ]
    },
    {
      "cell_type": "code",
      "source": [
        "sigma = 1\n",
        "r = 3\n",
        "\n",
        "def second_order_coeff_fn(t, grid):\n",
        "  s = grid[0]\n",
        "  return [[sigma**2 * s**2 / 2]]\n",
        "\n",
        "def first_order_coeff_fn(t, grid):\n",
        "  s = grid[0]\n",
        "  return [r * s]\n",
        "\n",
        "def zeroth_order_coeff_fn(t, grid):\n",
        "  return -r"
      ],
      "metadata": {
        "id": "vnYhA2beBtxA"
      },
      "execution_count": 10,
      "outputs": []
    },
    {
      "cell_type": "code",
      "source": [
        "sigma = 1\n",
        "mu = 2\n",
        "\n",
        "def inner_second_order_coeff_fn(t, grid):\n",
        "  s = grid[0]\n",
        "  return [[-sigma**2 * s**2 / 2]]\n",
        "\n",
        "def inner_first_order_coeff_fn(t, grid):\n",
        "  s = grid[0]\n",
        "  return [mu * s]\n",
        "\n",
        "# Replace '...' with the required arguments\n",
        "result_value_grid, final_grid, end_time, steps_performed = (\n",
        "    pde.fd_solvers.solve_forward(\n",
        "        start_time=t_0,  # Provide start time\n",
        "        end_time=t_1,  # Provide end time\n",
        "        num_steps=num_time_steps, # Provide number of time steps\n",
        "        coord_grid=grid,  # Provide coordinate grid\n",
        "        values_grid=initial_value_grid,  # Provide initial value grid\n",
        "        inner_second_order_coeff_fn=inner_second_order_coeff_fn,\n",
        "        inner_first_order_coeff_fn=inner_first_order_coeff_fn))"
      ],
      "metadata": {
        "id": "Qm9Vn0LYBxnJ"
      },
      "execution_count": 11,
      "outputs": []
    },
    {
      "cell_type": "code",
      "source": [
        "sigma = 1\n",
        "mu = 2\n",
        "\n",
        "def second_order_coeff_fn(t, grid):\n",
        "  return [[-sigma**2 / 2]]\n",
        "\n",
        "def first_order_coeff_fn(t, grid):\n",
        "  return [mu]\n",
        "\n",
        "def inner_second_order_coeff_fn(t, grid):\n",
        "  s = grid[0]\n",
        "  return [[s**2]]\n",
        "\n",
        "def inner_first_order_coeff_fn(t, grid):\n",
        "  s = grid[0]\n",
        "  return [s]\n",
        "\n",
        "# Provide the missing positional arguments explicitly\n",
        "result_value_grid, final_grid, end_time, steps_performed = (\n",
        "    pde.fd_solvers.solve_forward(\n",
        "        start_time=t_0,  # Start time\n",
        "        end_time=t_1,  # End time\n",
        "        num_steps=num_time_steps,  # Number of time steps\n",
        "        coord_grid=grid,  # Coordinate grid\n",
        "        values_grid=initial_value_grid,  # Initial value grid\n",
        "        second_order_coeff_fn=second_order_coeff_fn,\n",
        "        first_order_coeff_fn=first_order_coeff_fn,\n",
        "        inner_second_order_coeff_fn=inner_second_order_coeff_fn,\n",
        "        inner_first_order_coeff_fn=inner_first_order_coeff_fn))"
      ],
      "metadata": {
        "id": "_vRRc5rEBzq8"
      },
      "execution_count": 12,
      "outputs": []
    },
    {
      "cell_type": "code",
      "source": [
        "import matplotlib.pyplot as plt\n",
        "\n",
        "xs = final_grid[0].numpy()\n",
        "vs = result_value_grid.numpy()\n",
        "plt.plot(xs, vs)"
      ],
      "metadata": {
        "id": "rGX19catB_8D",
        "outputId": "552eeed3-ec6b-4b98-9964-01f0588c266f",
        "colab": {
          "base_uri": "https://localhost:8080/",
          "height": 448
        }
      },
      "execution_count": 13,
      "outputs": [
        {
          "output_type": "execute_result",
          "data": {
            "text/plain": [
              "[<matplotlib.lines.Line2D at 0x7d3cf8fc80a0>]"
            ]
          },
          "metadata": {},
          "execution_count": 13
        },
        {
          "output_type": "display_data",
          "data": {
            "text/plain": [
              "<Figure size 640x480 with 1 Axes>"
            ],
            "image/png": "[encoded data removed]"
          },
          "metadata": {}
        }
      ]
    },
    {
      "cell_type": "code",
      "source": [],
      "metadata": {
        "id": "WOJ46ZskyfK5"
      },
      "execution_count": null,
      "outputs": []
    }
  ],
  "metadata": {
    "colab": {
      "name": "Welcome To Colab",
      "provenance": [],
      "toc_visible": true,
      "include_colab_link": true
    },
    "kernelspec": {
      "display_name": "Python 3",
      "name": "python3"
    }
  },
  "nbformat": 4,
  "nbformat_minor": 0
}